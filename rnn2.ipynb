{
 "cells": [
  {
   "cell_type": "code",
   "execution_count": 1,
   "metadata": {},
   "outputs": [],
   "source": [
    "import re\n",
    "import numpy as np\n",
    "import matplotlib.pyplot as plt\n",
    "import torch\n",
    "from torch import nn\n",
    "import torch.nn.functional as F\n",
    "import torch.optim as optim\n",
    "import time\n",
    "from torch.utils.data import DataLoader, TensorDataset\n",
    "import pandas as pd\n",
    "from torch.optim import lr_scheduler"
   ]
  },
  {
   "cell_type": "code",
   "execution_count": 2,
   "metadata": {},
   "outputs": [
    {
     "data": {
      "text/plain": [
       "device(type='cuda')"
      ]
     },
     "execution_count": 2,
     "metadata": {},
     "output_type": "execute_result"
    }
   ],
   "source": [
    "device = torch.device(\"cuda\" if torch.cuda.is_available() else \"cpu\")\n",
    "device"
   ]
  },
  {
   "cell_type": "code",
   "execution_count": 3,
   "metadata": {},
   "outputs": [],
   "source": [
    "def generate_data(seq_length):\n",
    "    x = torch.randint(0, 10, (seq_length,))\n",
    "    y = torch.zeros(seq_length, dtype=torch.float)\n",
    "\n",
    "    for i in range(seq_length):\n",
    "        y[i] = (x[i] + x[0]) % 10\n",
    "\n",
    "    return x, y"
   ]
  },
  {
   "cell_type": "code",
   "execution_count": 4,
   "metadata": {},
   "outputs": [],
   "source": [
    "input_size = 25  \n",
    "embedding_size = 64  \n",
    "hidden_size = 128  \n",
    "output_size = 25 \n",
    "num_epochs = 50000\n",
    "batch_size = 128\n"
   ]
  },
  {
   "cell_type": "code",
   "execution_count": 5,
   "metadata": {},
   "outputs": [],
   "source": [
    "#data = [generate_data(25) for _ in range(5000)]"
   ]
  },
  {
   "cell_type": "code",
   "execution_count": 6,
   "metadata": {},
   "outputs": [],
   "source": [
    "#tensor_data = [(torch.unsqueeze(x, 0), torch.unsqueeze(y, 0)) for x, y in data]\n",
    "#X_train = torch.cat([x for x, _ in tensor_data], dim=0)\n",
    "#y_train = torch.cat([y for _, y in tensor_data], dim=0)\n",
    "\n",
    "#train_dataset = TensorDataset(X_train, y_train)\n",
    "#train_loader = DataLoader(train_dataset, batch_size=batch_size, shuffle=True)"
   ]
  },
  {
   "cell_type": "code",
   "execution_count": 7,
   "metadata": {},
   "outputs": [],
   "source": [
    "class LSTMModel(nn.Module):\n",
    "    def __init__(self, input_size, hidden_size,embedding_size, output_size, num_layers=10):\n",
    "        super(LSTMModel, self).__init__()\n",
    "        self.embedding = nn.Embedding(input_size, embedding_size)\n",
    "        self.lstm = nn.LSTM(embedding_size, hidden_size,num_layers=num_layers, batch_first=True)\n",
    "        self.fc = nn.Linear(hidden_size, output_size)\n",
    "\n",
    "    def forward(self, x):\n",
    "        embedded = self.embedding(x)\n",
    "        out, _ = self.lstm(embedded)\n",
    "        out = out[:, -1, :]\n",
    "        out = self.fc(out)\n",
    "        return out\n"
   ]
  },
  {
   "cell_type": "code",
   "execution_count": 8,
   "metadata": {},
   "outputs": [],
   "source": [
    "model = LSTMModel(input_size, hidden_size, embedding_size, output_size)\n",
    "criterion = nn.CrossEntropyLoss()\n",
    "optimizer = optim.SGD(model.parameters(), lr=0.001)\n",
    "scheduler = lr_scheduler.StepLR(optimizer, step_size=100, gamma=0.1)"
   ]
  },
  {
   "cell_type": "code",
   "execution_count": 9,
   "metadata": {},
   "outputs": [],
   "source": [
    "model = model.to(device)\n"
   ]
  },
  {
   "cell_type": "code",
   "execution_count": 10,
   "metadata": {},
   "outputs": [],
   "source": [
    "seq_length = 25\n",
    "X_train, y_train = generate_data(seq_length)\n",
    "train_dataset = torch.utils.data.TensorDataset(X_train, y_train)\n",
    "train_loader = DataLoader(train_dataset, batch_size=batch_size, shuffle=True)"
   ]
  },
  {
   "cell_type": "code",
   "execution_count": null,
   "metadata": {},
   "outputs": [],
   "source": [
    "for epoch in range(num_epochs):\n",
    "    x, y = generate_data(seq_length)\n",
    "    model.train()\n",
    "\n",
    "    
    "    x = x.unsqueeze(0)\n",
    "    y = y.unsqueeze(0)\n",
    "\n",
    "    
    "    x, y = x.to(device), y.to(device)\n",
    "\n",
    "    optimizer.zero_grad()\n",
    "    output = model(x)\n",
    "\n",
    "    
    "    output = output.squeeze(0)\n",
    "    y = y.view(-1)\n",
    "\n",
    "    loss = criterion(output, y)\n",
    "    loss.backward()\n",
    "    optimizer.step()\n",
    "    scheduler.step()\n",
    "\n",
    "    if (epoch + 1) % 100 == 0:\n",
    "        print(f'Epoch [{epoch+1}/{num_epochs}], Loss: {loss.item()}')"
   ]
  },
  {
   "cell_type": "code",
   "execution_count": 12,
   "metadata": {},
   "outputs": [
    {
     "name": "stdout",
     "output_type": "stream",
     "text": [
      "Accuracy on test data: 12.00%\n"
     ]
    }
   ],
   "source": [
    "test_seq_length = 25\n",
    "test_x, test_y = generate_data(test_seq_length)\n",
    "test_x = test_x.unsqueeze(0).to(device)\n",
    "test_y = test_y.unsqueeze(0).view(-1).to(device)\n",
    "\n",
    "model.eval()\n",
    "with torch.no_grad():\n",
    "    test_output = model(test_x)\n",
    "\n",
    "    
    "    test_output = test_output.view(-1, output_size)\n",
    "\n",
    "    
    "    softmax_output = F.softmax(test_output, dim=1)\n",
    "\n",
    "    
    "    predicted_labels = torch.argmax(softmax_output, dim=1)\n",
    "\n",
    "    
    "    correct_predictions = torch.sum(predicted_labels == test_y).item()\n",
    "    total_predictions = test_y.numel()\n",
    "    accuracy = correct_predictions / total_predictions\n",
    "    print(f'Accuracy on test data: {accuracy * 100:.2f}%')"
   ]
  },
  {
   "cell_type": "code",
   "execution_count": 13,
   "metadata": {},
   "outputs": [
    {
     "name": "stdout",
     "output_type": "stream",
     "text": [
      "     Model  Accuracy  Correct Predictions  Total Predictions\n",
      "0  LSTM_25      12.0                    3                 25\n"
     ]
    }
   ],
   "source": [
    "results_df = pd.DataFrame({\n",
    "    'Model': ['LSTM_25'],\n",
    "    'Accuracy': [accuracy * 100],\n",
    "    'Correct Predictions': [correct_predictions],\n",
    "    'Total Predictions': [total_predictions]\n",
    "})\n",
    "\n",
    
    "print(results_df)"
   ]
  },
  {
   "cell_type": "markdown",
   "metadata": {},
   "source": [
    "Теперь увеличим длину последовательности до 75"
   ]
  },
  {
   "cell_type": "code",
   "execution_count": 14,
   "metadata": {},
   "outputs": [],
   "source": [
    "torch.cuda.empty_cache()"
   ]
  },
  {
   "cell_type": "code",
   "execution_count": 15,
   "metadata": {},
   "outputs": [],
   "source": [
    "input_size = 75 \n",
    "embedding_size = 64  \n",
    "hidden_size = 128  \n",
    "output_size = 75\n",
    "num_epochs = 50000\n",
    "batch_size = 128"
   ]
  },
  {
   "cell_type": "code",
   "execution_count": 16,
   "metadata": {},
   "outputs": [],
   "source": [
    "seq_length = 75\n",
    "X_train, y_train = generate_data(seq_length)\n",
    "train_dataset = torch.utils.data.TensorDataset(X_train, y_train)\n",
    "train_loader = DataLoader(train_dataset, batch_size=batch_size, shuffle=True)"
   ]
  },
  {
   "cell_type": "code",
   "execution_count": 17,
   "metadata": {},
   "outputs": [],
   "source": [
    "model = LSTMModel(input_size, hidden_size, embedding_size, output_size)\n",
    "criterion = nn.CrossEntropyLoss()\n",
    "optimizer = optim.SGD(model.parameters(), lr=0.0001)\n",
    "scheduler = lr_scheduler.StepLR(optimizer, step_size=100, gamma=0.1)"
   ]
  },
  {
   "cell_type": "code",
   "execution_count": 18,
   "metadata": {},
   "outputs": [],
   "source": [
    "model = model.to(device)"
   ]
  },
  {
   "cell_type": "code",
   "execution_count": null,
   "metadata": {},
   "outputs": [],
   "source": [
    "for epoch in range(num_epochs):\n",
    "    x, y = generate_data(seq_length)\n",
    "    model.train()\n",
    "\n",
    "    \n",
    "    x = x.unsqueeze(0)\n",
    "    y = y.unsqueeze(0)\n",
    "\n",
    "    #\n",
    "    x, y = x.to(device), y.to(device)\n",
    "\n",
    "    optimizer.zero_grad()\n",
    "    output = model(x)\n",
    "\n",
    "   \n",
    "    output = output.squeeze(0)\n",
    "    y = y.view(-1)\n",
    "\n",
    "    loss = criterion(output, y)\n",
    "    loss.backward()\n",
    "    optimizer.step()\n",
    "    scheduler.step()\n",
    "\n",
    "    if (epoch + 1) % 100 == 0:\n",
    "        print(f'Epoch [{epoch+1}/{num_epochs}], Loss: {loss.item()}')"
   ]
  },
  {
   "cell_type": "code",
   "execution_count": 20,
   "metadata": {},
   "outputs": [
    {
     "name": "stdout",
     "output_type": "stream",
     "text": [
      "Accuracy on test data: 6.67%\n"
     ]
    }
   ],
   "source": [
    "test_seq_length = 75\n",
    "test_x, test_y = generate_data(test_seq_length)\n",
    "test_x = test_x.unsqueeze(0).to(device)\n",
    "test_y = test_y.unsqueeze(0).view(-1).to(device)\n",
    "\n",
    "model.eval()\n",
    "with torch.no_grad():\n",
    "    test_output = model(test_x)\n",
    "\n",
    "    \n",
    "    test_output = test_output.view(-1, output_size)\n",
    "\n",
    "    \n",
    "    softmax_output = F.softmax(test_output, dim=1)\n",
    "\n",
    "    \n",
    "    predicted_labels = torch.argmax(softmax_output, dim=1)\n",
    "\n",
    "    \n",
    "    correct_predictions = torch.sum(predicted_labels == test_y).item()\n",
    "    total_predictions = test_y.numel()\n",
    "    accuracy = correct_predictions / total_predictions\n",
    "    print(f'Accuracy on test data: {accuracy * 100:.2f}%')"
   ]
  },
  {
   "cell_type": "code",
   "execution_count": 21,
   "metadata": {},
   "outputs": [],
   "source": [
    "df_75 = pd.DataFrame({\n",
    "    'Model': ['LSTM_75'],  \n",
    "    'Accuracy': [accuracy * 100],\n",
    "    'Correct Predictions': [correct_predictions],\n",
    "    'Total Predictions': [total_predictions]\n",
    "})"
   ]
  },
  {
   "cell_type": "code",
   "execution_count": 22,
   "metadata": {},
   "outputs": [
    {
     "data": {
      "text/html": [
       "<div>\n",
       "<style scoped>\n",
       "    .dataframe tbody tr th:only-of-type {\n",
       "        vertical-align: middle;\n",
       "    }\n",
       "\n",
       "    .dataframe tbody tr th {\n",
       "        vertical-align: top;\n",
       "    }\n",
       "\n",
       "    .dataframe thead th {\n",
       "        text-align: right;\n",
       "    }\n",
       "</style>\n",
       "<table border=\"1\" class=\"dataframe\">\n",
       "  <thead>\n",
       "    <tr style=\"text-align: right;\">\n",
       "      <th></th>\n",
       "      <th>Model</th>\n",
       "      <th>Accuracy</th>\n",
       "      <th>Correct Predictions</th>\n",
       "      <th>Total Predictions</th>\n",
       "    </tr>\n",
       "  </thead>\n",
       "  <tbody>\n",
       "    <tr>\n",
       "      <th>0</th>\n",
       "      <td>LSTM_25</td>\n",
       "      <td>12.000000</td>\n",
       "      <td>3</td>\n",
       "      <td>25</td>\n",
       "    </tr>\n",
       "    <tr>\n",
       "      <th>1</th>\n",
       "      <td>LSTM_75</td>\n",
       "      <td>6.666667</td>\n",
       "      <td>5</td>\n",
       "      <td>75</td>\n",
       "    </tr>\n",
       "  </tbody>\n",
       "</table>\n",
       "</div>"
      ],
      "text/plain": [
       "     Model   Accuracy  Correct Predictions  Total Predictions\n",
       "0  LSTM_25  12.000000                    3                 25\n",
       "1  LSTM_75   6.666667                    5                 75"
      ]
     },
     "execution_count": 22,
     "metadata": {},
     "output_type": "execute_result"
    }
   ],
   "source": [
    "results_df = pd.concat([results_df, df_75], ignore_index=True)\n",
    "results_df"
   ]
  },
  {
   "cell_type": "markdown",
   "metadata": {},
   "source": [
    "Увеличим длину последовательности до 125"
   ]
  },
  {
   "cell_type": "code",
   "execution_count": 23,
   "metadata": {},
   "outputs": [],
   "source": [
    "torch.cuda.empty_cache()"
   ]
  },
  {
   "cell_type": "code",
   "execution_count": 24,
   "metadata": {},
   "outputs": [],
   "source": [
    "input_size = 125 \n",
    "embedding_size = 64  \n",
    "hidden_size = 128  \n",
    "output_size = 125\n",
    "num_epochs = 50000\n",
    "batch_size = 256"
   ]
  },
  {
   "cell_type": "code",
   "execution_count": 25,
   "metadata": {},
   "outputs": [],
   "source": [
    "seq_length = 125\n",
    "X_train, y_train = generate_data(seq_length)\n",
    "train_dataset = torch.utils.data.TensorDataset(X_train, y_train)\n",
    "train_loader = DataLoader(train_dataset, batch_size=batch_size, shuffle=True)"
   ]
  },
  {
   "cell_type": "code",
   "execution_count": 26,
   "metadata": {},
   "outputs": [],
   "source": [
    "model = LSTMModel(input_size, hidden_size, embedding_size, output_size)\n",
    "criterion = nn.CrossEntropyLoss()\n",
    "optimizer = optim.SGD(model.parameters(), lr=0.01)\n",
    "scheduler = lr_scheduler.StepLR(optimizer, step_size=100, gamma=0.1)"
   ]
  },
  {
   "cell_type": "code",
   "execution_count": 27,
   "metadata": {},
   "outputs": [],
   "source": [
    "model = model.to(device)"
   ]
  },
  {
   "cell_type": "code",
   "execution_count": null,
   "metadata": {},
   "outputs": [],
   "source": [
    "for epoch in range(num_epochs):\n",
    "    x, y = generate_data(seq_length)\n",
    "    model.train()\n",
    "\n",
    "    \n",
    "    x = x.unsqueeze(0)\n",
    "    y = y.unsqueeze(0)\n",
    "\n",
    "    #\n",
    "    x, y = x.to(device), y.to(device)\n",
    "\n",
    "    optimizer.zero_grad()\n",
    "    output = model(x)\n",
    "\n",
    "   \n",
    "    output = output.squeeze(0)\n",
    "    y = y.view(-1)\n",
    "\n",
    "    loss = criterion(output, y)\n",
    "    loss.backward()\n",
    "    optimizer.step()\n",
    "    scheduler.step()\n",
    "\n",
    "    if (epoch + 1) % 100 == 0:\n",
    "        print(f'Epoch [{epoch+1}/{num_epochs}], Loss: {loss.item()}')"
   ]
  },
  {
   "cell_type": "code",
   "execution_count": 29,
   "metadata": {},
   "outputs": [
    {
     "name": "stdout",
     "output_type": "stream",
     "text": [
      "Accuracy on test data: 0.00%\n"
     ]
    }
   ],
   "source": [
    "test_seq_length = 125\n",
    "test_x, test_y = generate_data(test_seq_length)\n",
    "test_x = test_x.unsqueeze(0).to(device)\n",
    "test_y = test_y.unsqueeze(0).view(-1).to(device)\n",
    "\n",
    "model.eval()\n",
    "with torch.no_grad():\n",
    "    test_output = model(test_x)\n",
    "\n",
    "    \n",
    "    test_output = test_output.view(-1, output_size)\n",
    "\n",
    "    \n",
    "    softmax_output = F.softmax(test_output, dim=1)\n",
    "\n",
    "    \n",
    "    predicted_labels = torch.argmax(softmax_output, dim=1)\n",
    "\n",
    "    \n",
    "    correct_predictions = torch.sum(predicted_labels == test_y).item()\n",
    "    total_predictions = test_y.numel()\n",
    "    accuracy = correct_predictions / total_predictions\n",
    "    print(f'Accuracy on test data: {accuracy * 100:.2f}%')"
   ]
  },
  {
   "cell_type": "code",
   "execution_count": 30,
   "metadata": {},
   "outputs": [],
   "source": [
    "df_125 = pd.DataFrame({\n",
    "    'Model': ['LSTM_125'],  \n",
    "    'Accuracy': [accuracy * 100],\n",
    "    'Correct Predictions': [correct_predictions],\n",
    "    'Total Predictions': [total_predictions]\n",
    "})"
   ]
  },
  {
   "cell_type": "code",
   "execution_count": 31,
   "metadata": {},
   "outputs": [
    {
     "data": {
      "text/html": [
       "<div>\n",
       "<style scoped>\n",
       "    .dataframe tbody tr th:only-of-type {\n",
       "        vertical-align: middle;\n",
       "    }\n",
       "\n",
       "    .dataframe tbody tr th {\n",
       "        vertical-align: top;\n",
       "    }\n",
       "\n",
       "    .dataframe thead th {\n",
       "        text-align: right;\n",
       "    }\n",
       "</style>\n",
       "<table border=\"1\" class=\"dataframe\">\n",
       "  <thead>\n",
       "    <tr style=\"text-align: right;\">\n",
       "      <th></th>\n",
       "      <th>Model</th>\n",
       "      <th>Accuracy</th>\n",
       "      <th>Correct Predictions</th>\n",
       "      <th>Total Predictions</th>\n",
       "    </tr>\n",
       "  </thead>\n",
       "  <tbody>\n",
       "    <tr>\n",
       "      <th>0</th>\n",
       "      <td>LSTM_25</td>\n",
       "      <td>12.000000</td>\n",
       "      <td>3</td>\n",
       "      <td>25</td>\n",
       "    </tr>\n",
       "    <tr>\n",
       "      <th>1</th>\n",
       "      <td>LSTM_75</td>\n",
       "      <td>6.666667</td>\n",
       "      <td>5</td>\n",
       "      <td>75</td>\n",
       "    </tr>\n",
       "    <tr>\n",
       "      <th>2</th>\n",
       "      <td>LSTM_125</td>\n",
       "      <td>0.000000</td>\n",
       "      <td>0</td>\n",
       "      <td>125</td>\n",
       "    </tr>\n",
       "  </tbody>\n",
       "</table>\n",
       "</div>"
      ],
      "text/plain": [
       "      Model   Accuracy  Correct Predictions  Total Predictions\n",
       "0   LSTM_25  12.000000                    3                 25\n",
       "1   LSTM_75   6.666667                    5                 75\n",
       "2  LSTM_125   0.000000                    0                125"
      ]
     },
     "execution_count": 31,
     "metadata": {},
     "output_type": "execute_result"
    }
   ],
   "source": [
    "results_df = pd.concat([results_df, df_125], ignore_index=True)\n",
    "results_df"
   ]
  },
  {
   "cell_type": "markdown",
   "metadata": {},
   "source": [
    "# Теперь попробуем с RNN"
   ]
  },
  {
   "cell_type": "code",
   "execution_count": 32,
   "metadata": {},
   "outputs": [],
   "source": [
    "torch.cuda.empty_cache()"
   ]
  },
  {
   "cell_type": "code",
   "execution_count": 33,
   "metadata": {},
   "outputs": [],
   "source": [
    "class RNNModel(nn.Module):\n",
    "    def __init__(self, input_size, hidden_size, embedding_size, output_size, num_layers=10):\n",
    "        super(RNNModel, self).__init__()\n",
    "        self.embedding = nn.Embedding(input_size, embedding_size)\n",
    "        self.rnn = nn.RNN(embedding_size, hidden_size, num_layers=num_layers, batch_first=True)\n",
    "        self.fc = nn.Linear(hidden_size, output_size)\n",
    "\n",
    "    def forward(self, x):\n",
    "        embedded = self.embedding(x)\n",
    "        out, _ = self.rnn(embedded)\n",
    "        out = out[:, -1, :]\n",
    "        out = self.fc(out)\n",
    "        return out"
   ]
  },
  {
   "cell_type": "code",
   "execution_count": 34,
   "metadata": {},
   "outputs": [],
   "source": [
    "input_size = 25 \n",
    "embedding_size = 64  \n",
    "hidden_size = 128  \n",
    "output_size = 25\n",
    "num_epochs = 50000\n",
    "batch_size = 256"
   ]
  },
  {
   "cell_type": "code",
   "execution_count": 35,
   "metadata": {},
   "outputs": [],
   "source": [
    "seq_length = 25\n",
    "X_train, y_train = generate_data(seq_length)\n",
    "train_dataset = torch.utils.data.TensorDataset(X_train, y_train)\n",
    "train_loader = DataLoader(train_dataset, batch_size=batch_size, shuffle=True)"
   ]
  },
  {
   "cell_type": "code",
   "execution_count": 36,
   "metadata": {},
   "outputs": [],
   "source": [
    "model = RNNModel(input_size, hidden_size, embedding_size, output_size)\n",
    "criterion = nn.CrossEntropyLoss()\n",
    "optimizer = optim.SGD(model.parameters(), lr=0.01)\n",
    "scheduler = lr_scheduler.StepLR(optimizer, step_size=100, gamma=0.1)"
   ]
  },
  {
   "cell_type": "code",
   "execution_count": null,
   "metadata": {},
   "outputs": [],
   "source": [
    "model = model.to(device)\n",
    "for epoch in range(num_epochs):\n",
    "    x, y = generate_data(seq_length)\n",
    "    model.train()\n",
    "\n",
    "    \n",
    "    x = x.unsqueeze(0)\n",
    "    y = y.unsqueeze(0)\n",
    "\n",
    "    #\n",
    "    x, y = x.to(device), y.to(device)\n",
    "\n",
    "    optimizer.zero_grad()\n",
    "    output = model(x)\n",
    "\n",
    "   \n",
    "    output = output.squeeze(0)\n",
    "    y = y.view(-1)\n",
    "\n",
    "    loss = criterion(output, y)\n",
    "    loss.backward()\n",
    "    optimizer.step()\n",
    "    scheduler.step()\n",
    "\n",
    "    if (epoch + 1) % 100 == 0:\n",
    "        print(f'Epoch [{epoch+1}/{num_epochs}], Loss: {loss.item()}')"
   ]
  },
  {
   "cell_type": "code",
   "execution_count": 38,
   "metadata": {},
   "outputs": [
    {
     "name": "stdout",
     "output_type": "stream",
     "text": [
      "Accuracy on test data: 4.00%\n"
     ]
    }
   ],
   "source": [
    "test_seq_length = 25\n",
    "test_x, test_y = generate_data(test_seq_length)\n",
    "test_x = test_x.unsqueeze(0).to(device)\n",
    "test_y = test_y.unsqueeze(0).view(-1).to(device)\n",
    "\n",
    "model.eval()\n",
    "with torch.no_grad():\n",
    "    test_output = model(test_x)\n",
    "\n",
    "    \n",
    "    test_output = test_output.view(-1, output_size)\n",
    "\n",
    "    \n",
    "    softmax_output = F.softmax(test_output, dim=1)\n",
    "\n",
    "    \n",
    "    predicted_labels = torch.argmax(softmax_output, dim=1)\n",
    "\n",
    "    \n",
    "    correct_predictions = torch.sum(predicted_labels == test_y).item()\n",
    "    total_predictions = test_y.numel()\n",
    "    accuracy = correct_predictions / total_predictions\n",
    "    print(f'Accuracy on test data: {accuracy * 100:.2f}%')"
   ]
  },
  {
   "cell_type": "code",
   "execution_count": 39,
   "metadata": {},
   "outputs": [
    {
     "data": {
      "text/html": [
       "<div>\n",
       "<style scoped>\n",
       "    .dataframe tbody tr th:only-of-type {\n",
       "        vertical-align: middle;\n",
       "    }\n",
       "\n",
       "    .dataframe tbody tr th {\n",
       "        vertical-align: top;\n",
       "    }\n",
       "\n",
       "    .dataframe thead th {\n",
       "        text-align: right;\n",
       "    }\n",
       "</style>\n",
       "<table border=\"1\" class=\"dataframe\">\n",
       "  <thead>\n",
       "    <tr style=\"text-align: right;\">\n",
       "      <th></th>\n",
       "      <th>Model</th>\n",
       "      <th>Accuracy</th>\n",
       "      <th>Correct Predictions</th>\n",
       "      <th>Total Predictions</th>\n",
       "    </tr>\n",
       "  </thead>\n",
       "  <tbody>\n",
       "    <tr>\n",
       "      <th>0</th>\n",
       "      <td>RNN_25</td>\n",
       "      <td>4.0</td>\n",
       "      <td>1</td>\n",
       "      <td>25</td>\n",
       "    </tr>\n",
       "  </tbody>\n",
       "</table>\n",
       "</div>"
      ],
      "text/plain": [
       "    Model  Accuracy  Correct Predictions  Total Predictions\n",
       "0  RNN_25       4.0                    1                 25"
      ]
     },
     "execution_count": 39,
     "metadata": {},
     "output_type": "execute_result"
    }
   ],
   "source": [
    "df_r25 = pd.DataFrame({\n",
    "    'Model': ['RNN_25'],  \n",
    "    'Accuracy': [accuracy * 100],\n",
    "    'Correct Predictions': [correct_predictions],\n",
    "    'Total Predictions': [total_predictions]\n",
    "})\n",
    "df_r25"
   ]
  },
  {
   "cell_type": "markdown",
   "metadata": {},
   "source": [
    "Для 75"
   ]
  },
  {
   "cell_type": "code",
   "execution_count": 40,
   "metadata": {},
   "outputs": [],
   "source": [
    "input_size = 75 \n",
    "embedding_size = 64  \n",
    "hidden_size = 128  \n",
    "output_size = 75\n",
    "num_epochs = 50000\n",
    "batch_size = 256"
   ]
  },
  {
   "cell_type": "code",
   "execution_count": 41,
   "metadata": {},
   "outputs": [],
   "source": [
    "seq_length = 75\n",
    "X_train, y_train = generate_data(seq_length)\n",
    "train_dataset = torch.utils.data.TensorDataset(X_train, y_train)\n",
    "train_loader = DataLoader(train_dataset, batch_size=batch_size, shuffle=True)"
   ]
  },
  {
   "cell_type": "code",
   "execution_count": 42,
   "metadata": {},
   "outputs": [],
   "source": [
    "model = RNNModel(input_size, hidden_size, embedding_size, output_size)\n",
    "criterion = nn.CrossEntropyLoss()\n",
    "optimizer = optim.SGD(model.parameters(), lr=0.01)\n",
    "scheduler = lr_scheduler.StepLR(optimizer, step_size=100, gamma=0.1)"
   ]
  },
  {
   "cell_type": "code",
   "execution_count": null,
   "metadata": {},
   "outputs": [],
   "source": [
    "model = model.to(device)\n",
    "for epoch in range(num_epochs):\n",
    "    x, y = generate_data(seq_length)\n",
    "    model.train()\n",
    "\n",
    "    \n",
    "    x = x.unsqueeze(0)\n",
    "    y = y.unsqueeze(0)\n",
    "\n",
    "    #\n",
    "    x, y = x.to(device), y.to(device)\n",
    "\n",
    "    optimizer.zero_grad()\n",
    "    output = model(x)\n",
    "\n",
    "   \n",
    "    output = output.squeeze(0)\n",
    "    y = y.view(-1)\n",
    "\n",
    "    loss = criterion(output, y)\n",
    "    loss.backward()\n",
    "    optimizer.step()\n",
    "    scheduler.step()\n",
    "\n",
    "    if (epoch + 1) % 100 == 0:\n",
    "        print(f'Epoch [{epoch+1}/{num_epochs}], Loss: {loss.item()}')"
   ]
  },
  {
   "cell_type": "code",
   "execution_count": 44,
   "metadata": {},
   "outputs": [
    {
     "name": "stdout",
     "output_type": "stream",
     "text": [
      "Accuracy on test data: 0.00%\n"
     ]
    }
   ],
   "source": [
    "test_seq_length = 75\n",
    "test_x, test_y = generate_data(test_seq_length)\n",
    "test_x = test_x.unsqueeze(0).to(device)\n",
    "test_y = test_y.unsqueeze(0).view(-1).to(device)\n",
    "\n",
    "model.eval()\n",
    "with torch.no_grad():\n",
    "    test_output = model(test_x)\n",
    "\n",
    "    \n",
    "    test_output = test_output.view(-1, output_size)\n",
    "\n",
    "    \n",
    "    softmax_output = F.softmax(test_output, dim=1)\n",
    "\n",
    "    \n",
    "    predicted_labels = torch.argmax(softmax_output, dim=1)\n",
    "\n",
    "    \n",
    "    correct_predictions = torch.sum(predicted_labels == test_y).item()\n",
    "    total_predictions = test_y.numel()\n",
    "    accuracy = correct_predictions / total_predictions\n",
    "    print(f'Accuracy on test data: {accuracy * 100:.2f}%')"
   ]
  },
  {
   "cell_type": "code",
   "execution_count": 45,
   "metadata": {},
   "outputs": [
    {
     "data": {
      "text/html": [
       "<div>\n",
       "<style scoped>\n",
       "    .dataframe tbody tr th:only-of-type {\n",
       "        vertical-align: middle;\n",
       "    }\n",
       "\n",
       "    .dataframe tbody tr th {\n",
       "        vertical-align: top;\n",
       "    }\n",
       "\n",
       "    .dataframe thead th {\n",
       "        text-align: right;\n",
       "    }\n",
       "</style>\n",
       "<table border=\"1\" class=\"dataframe\">\n",
       "  <thead>\n",
       "    <tr style=\"text-align: right;\">\n",
       "      <th></th>\n",
       "      <th>Model</th>\n",
       "      <th>Accuracy</th>\n",
       "      <th>Correct Predictions</th>\n",
       "      <th>Total Predictions</th>\n",
       "    </tr>\n",
       "  </thead>\n",
       "  <tbody>\n",
       "    <tr>\n",
       "      <th>0</th>\n",
       "      <td>RNN_75</td>\n",
       "      <td>0.0</td>\n",
       "      <td>0</td>\n",
       "      <td>75</td>\n",
       "    </tr>\n",
       "  </tbody>\n",
       "</table>\n",
       "</div>"
      ],
      "text/plain": [
       "    Model  Accuracy  Correct Predictions  Total Predictions\n",
       "0  RNN_75       0.0                    0                 75"
      ]
     },
     "execution_count": 45,
     "metadata": {},
     "output_type": "execute_result"
    }
   ],
   "source": [
    "df_r75 = pd.DataFrame({\n",
    "    'Model': ['RNN_75'],  \n",
    "    'Accuracy': [accuracy * 100],\n",
    "    'Correct Predictions': [correct_predictions],\n",
    "    'Total Predictions': [total_predictions]\n",
    "})\n",
    "df_r75"
   ]
  },
  {
   "cell_type": "code",
   "execution_count": 46,
   "metadata": {},
   "outputs": [
    {
     "data": {
      "text/html": [
       "<div>\n",
       "<style scoped>\n",
       "    .dataframe tbody tr th:only-of-type {\n",
       "        vertical-align: middle;\n",
       "    }\n",
       "\n",
       "    .dataframe tbody tr th {\n",
       "        vertical-align: top;\n",
       "    }\n",
       "\n",
       "    .dataframe thead th {\n",
       "        text-align: right;\n",
       "    }\n",
       "</style>\n",
       "<table border=\"1\" class=\"dataframe\">\n",
       "  <thead>\n",
       "    <tr style=\"text-align: right;\">\n",
       "      <th></th>\n",
       "      <th>Model</th>\n",
       "      <th>Accuracy</th>\n",
       "      <th>Correct Predictions</th>\n",
       "      <th>Total Predictions</th>\n",
       "    </tr>\n",
       "  </thead>\n",
       "  <tbody>\n",
       "    <tr>\n",
       "      <th>0</th>\n",
       "      <td>RNN_25</td>\n",
       "      <td>4.0</td>\n",
       "      <td>1</td>\n",
       "      <td>25</td>\n",
       "    </tr>\n",
       "    <tr>\n",
       "      <th>1</th>\n",
       "      <td>RNN_75</td>\n",
       "      <td>0.0</td>\n",
       "      <td>0</td>\n",
       "      <td>75</td>\n",
       "    </tr>\n",
       "  </tbody>\n",
       "</table>\n",
       "</div>"
      ],
      "text/plain": [
       "    Model  Accuracy  Correct Predictions  Total Predictions\n",
       "0  RNN_25       4.0                    1                 25\n",
       "1  RNN_75       0.0                    0                 75"
      ]
     },
     "execution_count": 46,
     "metadata": {},
     "output_type": "execute_result"
    }
   ],
   "source": [
    "results_df_rnn = pd.concat([df_r25, df_r75], ignore_index=True)\n",
    "results_df_rnn "
   ]
  },
  {
   "cell_type": "markdown",
   "metadata": {},
   "source": [
    "Для 125"
   ]
  },
  {
   "cell_type": "code",
   "execution_count": 47,
   "metadata": {},
   "outputs": [],
   "source": [
    "input_size = 125\n",
    "embedding_size = 64  \n",
    "hidden_size = 128  \n",
    "output_size = 125\n",
    "num_epochs = 50000\n",
    "batch_size = 256"
   ]
  },
  {
   "cell_type": "code",
   "execution_count": 48,
   "metadata": {},
   "outputs": [],
   "source": [
    "seq_length = 125\n",
    "X_train, y_train = generate_data(seq_length)\n",
    "train_dataset = torch.utils.data.TensorDataset(X_train, y_train)\n",
    "train_loader = DataLoader(train_dataset, batch_size=batch_size, shuffle=True)"
   ]
  },
  {
   "cell_type": "code",
   "execution_count": 49,
   "metadata": {},
   "outputs": [],
   "source": [
    "model = RNNModel(input_size, hidden_size, embedding_size, output_size)\n",
    "criterion = nn.CrossEntropyLoss()\n",
    "optimizer = optim.SGD(model.parameters(), lr=0.01)\n",
    "scheduler = lr_scheduler.StepLR(optimizer, step_size=100, gamma=0.1)"
   ]
  },
  {
   "cell_type": "code",
   "execution_count": null,
   "metadata": {},
   "outputs": [],
   "source": [
    "model = model.to(device)\n",
    "for epoch in range(num_epochs):\n",
    "    x, y = generate_data(seq_length)\n",
    "    model.train()\n",
    "\n",
    "    \n",
    "    x = x.unsqueeze(0)\n",
    "    y = y.unsqueeze(0)\n",
    "\n",
    "    #\n",
    "    x, y = x.to(device), y.to(device)\n",
    "\n",
    "    optimizer.zero_grad()\n",
    "    output = model(x)\n",
    "\n",
    "   \n",
    "    output = output.squeeze(0)\n",
    "    y = y.view(-1)\n",
    "\n",
    "    loss = criterion(output, y)\n",
    "    loss.backward()\n",
    "    optimizer.step()\n",
    "    scheduler.step()\n",
    "\n",
    "    if (epoch + 1) % 100 == 0:\n",
    "        print(f'Epoch [{epoch+1}/{num_epochs}], Loss: {loss.item()}')"
   ]
  },
  {
   "cell_type": "code",
   "execution_count": 51,
   "metadata": {},
   "outputs": [
    {
     "name": "stdout",
     "output_type": "stream",
     "text": [
      "Accuracy on test data: 8.00%\n"
     ]
    }
   ],
   "source": [
    "test_seq_length = 125\n",
    "test_x, test_y = generate_data(test_seq_length)\n",
    "test_x = test_x.unsqueeze(0).to(device)\n",
    "test_y = test_y.unsqueeze(0).view(-1).to(device)\n",
    "\n",
    "model.eval()\n",
    "with torch.no_grad():\n",
    "    test_output = model(test_x)\n",
    "\n",
    "    \n",
    "    test_output = test_output.view(-1, output_size)\n",
    "\n",
    "    \n",
    "    softmax_output = F.softmax(test_output, dim=1)\n",
    "\n",
    "    \n",
    "    predicted_labels = torch.argmax(softmax_output, dim=1)\n",
    "\n",
    "    \n",
    "    correct_predictions = torch.sum(predicted_labels == test_y).item()\n",
    "    total_predictions = test_y.numel()\n",
    "    accuracy = correct_predictions / total_predictions\n",
    "    print(f'Accuracy on test data: {accuracy * 100:.2f}%')"
   ]
  },
  {
   "cell_type": "code",
   "execution_count": 52,
   "metadata": {},
   "outputs": [],
   "source": [
    "df_r125 = pd.DataFrame({\n",
    "    'Model': ['RNN_125'],  \n",
    "    'Accuracy': [accuracy * 100],\n",
    "    'Correct Predictions': [correct_predictions],\n",
    "    'Total Predictions': [total_predictions]\n",
    "})\n"
   ]
  },
  {
   "cell_type": "code",
   "execution_count": 53,
   "metadata": {},
   "outputs": [
    {
     "data": {
      "text/html": [
       "<div>\n",
       "<style scoped>\n",
       "    .dataframe tbody tr th:only-of-type {\n",
       "        vertical-align: middle;\n",
       "    }\n",
       "\n",
       "    .dataframe tbody tr th {\n",
       "        vertical-align: top;\n",
       "    }\n",
       "\n",
       "    .dataframe thead th {\n",
       "        text-align: right;\n",
       "    }\n",
       "</style>\n",
       "<table border=\"1\" class=\"dataframe\">\n",
       "  <thead>\n",
       "    <tr style=\"text-align: right;\">\n",
       "      <th></th>\n",
       "      <th>Model</th>\n",
       "      <th>Accuracy</th>\n",
       "      <th>Correct Predictions</th>\n",
       "      <th>Total Predictions</th>\n",
       "    </tr>\n",
       "  </thead>\n",
       "  <tbody>\n",
       "    <tr>\n",
       "      <th>0</th>\n",
       "      <td>RNN_25</td>\n",
       "      <td>4.0</td>\n",
       "      <td>1</td>\n",
       "      <td>25</td>\n",
       "    </tr>\n",
       "    <tr>\n",
       "      <th>1</th>\n",
       "      <td>RNN_75</td>\n",
       "      <td>0.0</td>\n",
       "      <td>0</td>\n",
       "      <td>75</td>\n",
       "    </tr>\n",
       "    <tr>\n",
       "      <th>2</th>\n",
       "      <td>RNN_125</td>\n",
       "      <td>8.0</td>\n",
       "      <td>10</td>\n",
       "      <td>125</td>\n",
       "    </tr>\n",
       "  </tbody>\n",
       "</table>\n",
       "</div>"
      ],
      "text/plain": [
       "     Model  Accuracy  Correct Predictions  Total Predictions\n",
       "0   RNN_25       4.0                    1                 25\n",
       "1   RNN_75       0.0                    0                 75\n",
       "2  RNN_125       8.0                   10                125"
      ]
     },
     "execution_count": 53,
     "metadata": {},
     "output_type": "execute_result"
    }
   ],
   "source": [
    "results_df_rnn = pd.concat([df_r25, df_r75, df_r125 ], ignore_index=True)\n",
    "results_df_rnn"
   ]
  },
  {
   "cell_type": "markdown",
   "metadata": {},
   "source": [
    "# Теперь все тоже самое, но с GRU"
   ]
  },
  {
   "cell_type": "code",
   "execution_count": 54,
   "metadata": {},
   "outputs": [],
   "source": [
    "input_size = 25\n",
    "embedding_size = 64  \n",
    "hidden_size = 128  \n",
    "output_size = 25\n",
    "num_epochs = 50000\n",
    "batch_size = 256"
   ]
  },
  {
   "cell_type": "code",
   "execution_count": 55,
   "metadata": {},
   "outputs": [],
   "source": [
    "seq_length = 25\n",
    "X_train, y_train = generate_data(seq_length)\n",
    "train_dataset = torch.utils.data.TensorDataset(X_train, y_train)\n",
    "train_loader = DataLoader(train_dataset, batch_size=batch_size, shuffle=True)"
   ]
  },
  {
   "cell_type": "code",
   "execution_count": 56,
   "metadata": {},
   "outputs": [],
   "source": [
    "class GRUModel(nn.Module):\n",
    "    def __init__(self, input_size, hidden_size, embedding_size, output_size, num_layers=10):\n",
    "        super(GRUModel, self).__init__()\n",
    "        self.embedding = nn.Embedding(input_size, embedding_size)\n",
    "        self.rnn = nn.GRU(embedding_size, hidden_size, num_layers=num_layers, batch_first=True)\n",
    "        self.fc = nn.Linear(hidden_size, output_size)\n",
    "\n",
    "    def forward(self, x):\n",
    "        embedded = self.embedding(x)\n",
    "        out, _ = self.rnn(embedded)\n",
    "        out = out[:, -1, :]\n",
    "        out = self.fc(out)\n",
    "        return out"
   ]
  },
  {
   "cell_type": "code",
   "execution_count": 57,
   "metadata": {},
   "outputs": [],
   "source": [
    "model = GRUModel(input_size, hidden_size, embedding_size, output_size)\n",
    "criterion = nn.CrossEntropyLoss()\n",
    "optimizer = optim.SGD(model.parameters(), lr=0.01)\n",
    "scheduler = lr_scheduler.StepLR(optimizer, step_size=100, gamma=0.1)"
   ]
  },
  {
   "cell_type": "code",
   "execution_count": null,
   "metadata": {},
   "outputs": [],
   "source": [
    "model = model.to(device)\n",
    "for epoch in range(num_epochs):\n",
    "    x, y = generate_data(seq_length)\n",
    "    model.train()\n",
    "\n",
    "    \n",
    "    x = x.unsqueeze(0)\n",
    "    y = y.unsqueeze(0)\n",
    "\n",
    "    #\n",
    "    x, y = x.to(device), y.to(device)\n",
    "\n",
    "    optimizer.zero_grad()\n",
    "    output = model(x)\n",
    "\n",
    "   \n",
    "    output = output.squeeze(0)\n",
    "    y = y.view(-1)\n",
    "\n",
    "    loss = criterion(output, y)\n",
    "    loss.backward()\n",
    "    optimizer.step()\n",
    "    scheduler.step()\n",
    "\n",
    "    if (epoch + 1) % 100 == 0:\n",
    "        print(f'Epoch [{epoch+1}/{num_epochs}], Loss: {loss.item()}')"
   ]
  },
  {
   "cell_type": "code",
   "execution_count": 59,
   "metadata": {},
   "outputs": [
    {
     "name": "stdout",
     "output_type": "stream",
     "text": [
      "Accuracy on test data: 0.00%\n"
     ]
    }
   ],
   "source": [
    "test_seq_length = 25\n",
    "test_x, test_y = generate_data(test_seq_length)\n",
    "test_x = test_x.unsqueeze(0).to(device)\n",
    "test_y = test_y.unsqueeze(0).view(-1).to(device)\n",
    "\n",
    "model.eval()\n",
    "with torch.no_grad():\n",
    "    test_output = model(test_x)\n",
    "\n",
    "    \n",
    "    test_output = test_output.view(-1, output_size)\n",
    "\n",
    "    \n",
    "    softmax_output = F.softmax(test_output, dim=1)\n",
    "\n",
    "    \n",
    "    predicted_labels = torch.argmax(softmax_output, dim=1)\n",
    "\n",
    "    \n",
    "    correct_predictions = torch.sum(predicted_labels == test_y).item()\n",
    "    total_predictions = test_y.numel()\n",
    "    accuracy = correct_predictions / total_predictions\n",
    "    print(f'Accuracy on test data: {accuracy * 100:.2f}%')"
   ]
  },
  {
   "cell_type": "code",
   "execution_count": 60,
   "metadata": {},
   "outputs": [],
   "source": [
    "df_g25 = pd.DataFrame({\n",
    "    'Model': ['GRU_25'],  \n",
    "    'Accuracy': [accuracy * 100],\n",
    "    'Correct Predictions': [correct_predictions],\n",
    "    'Total Predictions': [total_predictions]\n",
    "})\n"
   ]
  },
  {
   "cell_type": "code",
   "execution_count": 61,
   "metadata": {},
   "outputs": [
    {
     "data": {
      "text/html": [
       "<div>\n",
       "<style scoped>\n",
       "    .dataframe tbody tr th:only-of-type {\n",
       "        vertical-align: middle;\n",
       "    }\n",
       "\n",
       "    .dataframe tbody tr th {\n",
       "        vertical-align: top;\n",
       "    }\n",
       "\n",
       "    .dataframe thead th {\n",
       "        text-align: right;\n",
       "    }\n",
       "</style>\n",
       "<table border=\"1\" class=\"dataframe\">\n",
       "  <thead>\n",
       "    <tr style=\"text-align: right;\">\n",
       "      <th></th>\n",
       "      <th>Model</th>\n",
       "      <th>Accuracy</th>\n",
       "      <th>Correct Predictions</th>\n",
       "      <th>Total Predictions</th>\n",
       "    </tr>\n",
       "  </thead>\n",
       "  <tbody>\n",
       "    <tr>\n",
       "      <th>0</th>\n",
       "      <td>GRU_25</td>\n",
       "      <td>0.0</td>\n",
       "      <td>0</td>\n",
       "      <td>25</td>\n",
       "    </tr>\n",
       "  </tbody>\n",
       "</table>\n",
       "</div>"
      ],
      "text/plain": [
       "    Model  Accuracy  Correct Predictions  Total Predictions\n",
       "0  GRU_25       0.0                    0                 25"
      ]
     },
     "execution_count": 61,
     "metadata": {},
     "output_type": "execute_result"
    }
   ],
   "source": [
    "df_g25"
   ]
  },
  {
   "cell_type": "markdown",
   "metadata": {},
   "source": [
    "Теперь 75"
   ]
  },
  {
   "cell_type": "code",
   "execution_count": 62,
   "metadata": {},
   "outputs": [],
   "source": [
    "input_size = 75\n",
    "embedding_size = 16 \n",
    "hidden_size = 128  \n",
    "output_size = 75\n",
    "num_epochs = 50000\n",
    "batch_size = 256"
   ]
  },
  {
   "cell_type": "code",
   "execution_count": 63,
   "metadata": {},
   "outputs": [],
   "source": [
    "seq_length = 75\n",
    "X_train, y_train = generate_data(seq_length)\n",
    "train_dataset = torch.utils.data.TensorDataset(X_train, y_train)\n",
    "train_loader = DataLoader(train_dataset, batch_size=batch_size, shuffle=True)"
   ]
  },
  {
   "cell_type": "code",
   "execution_count": 64,
   "metadata": {},
   "outputs": [],
   "source": [
    "model = GRUModel(input_size, hidden_size, embedding_size, output_size)\n",
    "criterion = nn.CrossEntropyLoss()\n",
    "optimizer = optim.SGD(model.parameters(), lr=0.01)\n",
    "scheduler = lr_scheduler.StepLR(optimizer, step_size=100, gamma=0.1)"
   ]
  },
  {
   "cell_type": "code",
   "execution_count": null,
   "metadata": {},
   "outputs": [],
   "source": [
    "model = model.to(device)\n",
    "for epoch in range(num_epochs):\n",
    "    x, y = generate_data(seq_length)\n",
    "    model.train()\n",
    "\n",
    "    \n",
    "    x = x.unsqueeze(0)\n",
    "    y = y.unsqueeze(0)\n",
    "\n",
    "    #\n",
    "    x, y = x.to(device), y.to(device)\n",
    "\n",
    "    optimizer.zero_grad()\n",
    "    output = model(x)\n",
    "\n",
    "   \n",
    "    output = output.squeeze(0)\n",
    "    y = y.view(-1)\n",
    "\n",
    "    loss = criterion(output, y)\n",
    "    loss.backward()\n",
    "    optimizer.step()\n",
    "    scheduler.step()\n",
    "\n",
    "    if (epoch + 1) % 100 == 0:\n",
    "        print(f'Epoch [{epoch+1}/{num_epochs}], Loss: {loss.item()}')"
   ]
  },
  {
   "cell_type": "code",
   "execution_count": 66,
   "metadata": {},
   "outputs": [
    {
     "name": "stdout",
     "output_type": "stream",
     "text": [
      "Accuracy on test data: 0.00%\n"
     ]
    }
   ],
   "source": [
    "test_seq_length = 75\n",
    "test_x, test_y = generate_data(test_seq_length)\n",
    "test_x = test_x.unsqueeze(0).to(device)\n",
    "test_y = test_y.unsqueeze(0).view(-1).to(device)\n",
    "\n",
    "model.eval()\n",
    "with torch.no_grad():\n",
    "    test_output = model(test_x)\n",
    "\n",
    "    \n",
    "    test_output = test_output.view(-1, output_size)\n",
    "\n",
    "    \n",
    "    softmax_output = F.softmax(test_output, dim=1)\n",
    "\n",
    "    \n",
    "    predicted_labels = torch.argmax(softmax_output, dim=1)\n",
    "\n",
    "    \n",
    "    correct_predictions = torch.sum(predicted_labels == test_y).item()\n",
    "    total_predictions = test_y.numel()\n",
    "    accuracy = correct_predictions / total_predictions\n",
    "    print(f'Accuracy on test data: {accuracy * 100:.2f}%')"
   ]
  },
  {
   "cell_type": "code",
   "execution_count": 67,
   "metadata": {},
   "outputs": [],
   "source": [
    "df_g75 = pd.DataFrame({\n",
    "    'Model': ['GRU_75'],  \n",
    "    'Accuracy': [accuracy * 100],\n",
    "    'Correct Predictions': [correct_predictions],\n",
    "    'Total Predictions': [total_predictions]\n",
    "})\n"
   ]
  },
  {
   "cell_type": "code",
   "execution_count": 68,
   "metadata": {},
   "outputs": [
    {
     "data": {
      "text/html": [
       "<div>\n",
       "<style scoped>\n",
       "    .dataframe tbody tr th:only-of-type {\n",
       "        vertical-align: middle;\n",
       "    }\n",
       "\n",
       "    .dataframe tbody tr th {\n",
       "        vertical-align: top;\n",
       "    }\n",
       "\n",
       "    .dataframe thead th {\n",
       "        text-align: right;\n",
       "    }\n",
       "</style>\n",
       "<table border=\"1\" class=\"dataframe\">\n",
       "  <thead>\n",
       "    <tr style=\"text-align: right;\">\n",
       "      <th></th>\n",
       "      <th>Model</th>\n",
       "      <th>Accuracy</th>\n",
       "      <th>Correct Predictions</th>\n",
       "      <th>Total Predictions</th>\n",
       "    </tr>\n",
       "  </thead>\n",
       "  <tbody>\n",
       "    <tr>\n",
       "      <th>0</th>\n",
       "      <td>GRU_25</td>\n",
       "      <td>0.0</td>\n",
       "      <td>0</td>\n",
       "      <td>25</td>\n",
       "    </tr>\n",
       "    <tr>\n",
       "      <th>1</th>\n",
       "      <td>GRU_75</td>\n",
       "      <td>0.0</td>\n",
       "      <td>0</td>\n",
       "      <td>75</td>\n",
       "    </tr>\n",
       "  </tbody>\n",
       "</table>\n",
       "</div>"
      ],
      "text/plain": [
       "    Model  Accuracy  Correct Predictions  Total Predictions\n",
       "0  GRU_25       0.0                    0                 25\n",
       "1  GRU_75       0.0                    0                 75"
      ]
     },
     "execution_count": 68,
     "metadata": {},
     "output_type": "execute_result"
    }
   ],
   "source": [
    "results_df_gru = pd.concat([df_g25, df_g75], ignore_index=True)\n",
    "results_df_gru"
   ]
  },
  {
   "cell_type": "markdown",
   "metadata": {},
   "source": [
    "И 125"
   ]
  },
  {
   "cell_type": "code",
   "execution_count": 69,
   "metadata": {},
   "outputs": [],
   "source": [
    "input_size = 125\n",
    "embedding_size = 16 \n",
    "hidden_size = 128  \n",
    "output_size = 125\n",
    "num_epochs = 50000\n",
    "batch_size = 256"
   ]
  },
  {
   "cell_type": "code",
   "execution_count": 70,
   "metadata": {},
   "outputs": [],
   "source": [
    "seq_length = 125\n",
    "X_train, y_train = generate_data(seq_length)\n",
    "train_dataset = torch.utils.data.TensorDataset(X_train, y_train)\n",
    "train_loader = DataLoader(train_dataset, batch_size=batch_size, shuffle=True)"
   ]
  },
  {
   "cell_type": "code",
   "execution_count": 71,
   "metadata": {},
   "outputs": [],
   "source": [
    "model = GRUModel(input_size, hidden_size, embedding_size, output_size)\n",
    "criterion = nn.CrossEntropyLoss()\n",
    "optimizer = optim.SGD(model.parameters(), lr=0.01)\n",
    "scheduler = lr_scheduler.StepLR(optimizer, step_size=100, gamma=0.1)"
   ]
  },
  {
   "cell_type": "code",
   "execution_count": null,
   "metadata": {},
   "outputs": [],
   "source": [
    "model = model.to(device)\n",
    "for epoch in range(num_epochs):\n",
    "    x, y = generate_data(seq_length)\n",
    "    model.train()\n",
    "\n",
    "    \n",
    "    x = x.unsqueeze(0)\n",
    "    y = y.unsqueeze(0)\n",
    "\n",
    "    #\n",
    "    x, y = x.to(device), y.to(device)\n",
    "\n",
    "    optimizer.zero_grad()\n",
    "    output = model(x)\n",
    "\n",
    "   \n",
    "    output = output.squeeze(0)\n",
    "    y = y.view(-1)\n",
    "\n",
    "    loss = criterion(output, y)\n",
    "    loss.backward()\n",
    "    optimizer.step()\n",
    "    scheduler.step()\n",
    "\n",
    "    if (epoch + 1) % 100 == 0:\n",
    "        print(f'Epoch [{epoch+1}/{num_epochs}], Loss: {loss.item()}')"
   ]
  },
  {
   "cell_type": "code",
   "execution_count": 73,
   "metadata": {},
   "outputs": [
    {
     "name": "stdout",
     "output_type": "stream",
     "text": [
      "Accuracy on test data: 0.00%\n"
     ]
    }
   ],
   "source": [
    "test_seq_length = 125\n",
    "test_x, test_y = generate_data(test_seq_length)\n",
    "test_x = test_x.unsqueeze(0).to(device)\n",
    "test_y = test_y.unsqueeze(0).view(-1).to(device)\n",
    "\n",
    "model.eval()\n",
    "with torch.no_grad():\n",
    "    test_output = model(test_x)\n",
    "\n",
    "    \n",
    "    test_output = test_output.view(-1, output_size)\n",
    "\n",
    "    \n",
    "    softmax_output = F.softmax(test_output, dim=1)\n",
    "\n",
    "    \n",
    "    predicted_labels = torch.argmax(softmax_output, dim=1)\n",
    "\n",
    "    \n",
    "    correct_predictions = torch.sum(predicted_labels == test_y).item()\n",
    "    total_predictions = test_y.numel()\n",
    "    accuracy = correct_predictions / total_predictions\n",
    "    print(f'Accuracy on test data: {accuracy * 100:.2f}%')"
   ]
  },
  {
   "cell_type": "code",
   "execution_count": 74,
   "metadata": {},
   "outputs": [],
   "source": [
    "df_g125 = pd.DataFrame({\n",
    "    'Model': ['GRU_125'],  \n",
    "    'Accuracy': [accuracy * 100],\n",
    "    'Correct Predictions': [correct_predictions],\n",
    "    'Total Predictions': [total_predictions]\n",
    "})\n"
   ]
  },
  {
   "cell_type": "code",
   "execution_count": 75,
   "metadata": {},
   "outputs": [
    {
     "data": {
      "text/html": [
       "<div>\n",
       "<style scoped>\n",
       "    .dataframe tbody tr th:only-of-type {\n",
       "        vertical-align: middle;\n",
       "    }\n",
       "\n",
       "    .dataframe tbody tr th {\n",
       "        vertical-align: top;\n",
       "    }\n",
       "\n",
       "    .dataframe thead th {\n",
       "        text-align: right;\n",
       "    }\n",
       "</style>\n",
       "<table border=\"1\" class=\"dataframe\">\n",
       "  <thead>\n",
       "    <tr style=\"text-align: right;\">\n",
       "      <th></th>\n",
       "      <th>Model</th>\n",
       "      <th>Accuracy</th>\n",
       "      <th>Correct Predictions</th>\n",
       "      <th>Total Predictions</th>\n",
       "    </tr>\n",
       "  </thead>\n",
       "  <tbody>\n",
       "    <tr>\n",
       "      <th>0</th>\n",
       "      <td>GRU_25</td>\n",
       "      <td>0.0</td>\n",
       "      <td>0</td>\n",
       "      <td>25</td>\n",
       "    </tr>\n",
       "    <tr>\n",
       "      <th>1</th>\n",
       "      <td>GRU_75</td>\n",
       "      <td>0.0</td>\n",
       "      <td>0</td>\n",
       "      <td>75</td>\n",
       "    </tr>\n",
       "    <tr>\n",
       "      <th>2</th>\n",
       "      <td>GRU_125</td>\n",
       "      <td>0.0</td>\n",
       "      <td>0</td>\n",
       "      <td>125</td>\n",
       "    </tr>\n",
       "  </tbody>\n",
       "</table>\n",
       "</div>"
      ],
      "text/plain": [
       "     Model  Accuracy  Correct Predictions  Total Predictions\n",
       "0   GRU_25       0.0                    0                 25\n",
       "1   GRU_75       0.0                    0                 75\n",
       "2  GRU_125       0.0                    0                125"
      ]
     },
     "execution_count": 75,
     "metadata": {},
     "output_type": "execute_result"
    }
   ],
   "source": [
    "results_df_gru = pd.concat([df_g25, df_g75, df_g125], ignore_index=True)\n",
    "results_df_gru"
   ]
  },
  {
   "cell_type": "code",
   "execution_count": 76,
   "metadata": {},
   "outputs": [
    {
     "data": {
      "text/html": [
       "<div>\n",
       "<style scoped>\n",
       "    .dataframe tbody tr th:only-of-type {\n",
       "        vertical-align: middle;\n",
       "    }\n",
       "\n",
       "    .dataframe tbody tr th {\n",
       "        vertical-align: top;\n",
       "    }\n",
       "\n",
       "    .dataframe thead th {\n",
       "        text-align: right;\n",
       "    }\n",
       "</style>\n",
       "<table border=\"1\" class=\"dataframe\">\n",
       "  <thead>\n",
       "    <tr style=\"text-align: right;\">\n",
       "      <th></th>\n",
       "      <th>Model</th>\n",
       "      <th>Accuracy</th>\n",
       "      <th>Correct Predictions</th>\n",
       "      <th>Total Predictions</th>\n",
       "    </tr>\n",
       "  </thead>\n",
       "  <tbody>\n",
       "    <tr>\n",
       "      <th>0</th>\n",
       "      <td>LSTM_25</td>\n",
       "      <td>12.000000</td>\n",
       "      <td>3</td>\n",
       "      <td>25</td>\n",
       "    </tr>\n",
       "    <tr>\n",
       "      <th>1</th>\n",
       "      <td>LSTM_75</td>\n",
       "      <td>6.666667</td>\n",
       "      <td>5</td>\n",
       "      <td>75</td>\n",
       "    </tr>\n",
       "    <tr>\n",
       "      <th>2</th>\n",
       "      <td>LSTM_125</td>\n",
       "      <td>0.000000</td>\n",
       "      <td>0</td>\n",
       "      <td>125</td>\n",
       "    </tr>\n",
       "    <tr>\n",
       "      <th>3</th>\n",
       "      <td>RNN_25</td>\n",
       "      <td>4.000000</td>\n",
       "      <td>1</td>\n",
       "      <td>25</td>\n",
       "    </tr>\n",
       "    <tr>\n",
       "      <th>4</th>\n",
       "      <td>RNN_75</td>\n",
       "      <td>0.000000</td>\n",
       "      <td>0</td>\n",
       "      <td>75</td>\n",
       "    </tr>\n",
       "    <tr>\n",
       "      <th>5</th>\n",
       "      <td>RNN_125</td>\n",
       "      <td>8.000000</td>\n",
       "      <td>10</td>\n",
       "      <td>125</td>\n",
       "    </tr>\n",
       "    <tr>\n",
       "      <th>6</th>\n",
       "      <td>GRU_25</td>\n",
       "      <td>0.000000</td>\n",
       "      <td>0</td>\n",
       "      <td>25</td>\n",
       "    </tr>\n",
       "    <tr>\n",
       "      <th>7</th>\n",
       "      <td>GRU_75</td>\n",
       "      <td>0.000000</td>\n",
       "      <td>0</td>\n",
       "      <td>75</td>\n",
       "    </tr>\n",
       "    <tr>\n",
       "      <th>8</th>\n",
       "      <td>GRU_125</td>\n",
       "      <td>0.000000</td>\n",
       "      <td>0</td>\n",
       "      <td>125</td>\n",
       "    </tr>\n",
       "  </tbody>\n",
       "</table>\n",
       "</div>"
      ],
      "text/plain": [
       "      Model   Accuracy  Correct Predictions  Total Predictions\n",
       "0   LSTM_25  12.000000                    3                 25\n",
       "1   LSTM_75   6.666667                    5                 75\n",
       "2  LSTM_125   0.000000                    0                125\n",
       "3    RNN_25   4.000000                    1                 25\n",
       "4    RNN_75   0.000000                    0                 75\n",
       "5   RNN_125   8.000000                   10                125\n",
       "6    GRU_25   0.000000                    0                 25\n",
       "7    GRU_75   0.000000                    0                 75\n",
       "8   GRU_125   0.000000                    0                125"
      ]
     },
     "execution_count": 76,
     "metadata": {},
     "output_type": "execute_result"
    }
   ],
   "source": [
    "final = pd.concat([results_df, results_df_rnn, results_df_gru], ignore_index=True)\n",
    "final"
   ]
  }
 ],
 "metadata": {
  "kernelspec": {
   "display_name": "base",
   "language": "python",
   "name": "python3"
  },
  "language_info": {
   "codemirror_mode": {
    "name": "ipython",
    "version": 3
   },
   "file_extension": ".py",
   "mimetype": "text/x-python",
   "name": "python",
   "nbconvert_exporter": "python",
   "pygments_lexer": "ipython3",
   "version": "3.11.5"
  }
 },
 "nbformat": 4,
 "nbformat_minor": 2
}
