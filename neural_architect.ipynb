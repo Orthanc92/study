{
 "cells": [
  {
   "cell_type": "code",
   "execution_count": 1,
   "metadata": {},
   "outputs": [],
   "source": [
    "import pandas as pd\n",
    "import numpy as numpy\n",
    "import torch\n",
    "import torch.nn as nn\n",
    "import torch.optim as optim\n",
    "import torchvision as tv\n",
    "from torchsummary import summary\n",
    "import matplotlib.pyplot as plt\n",
    "import time"
   ]
  },
  {
   "cell_type": "code",
   "execution_count": 2,
   "metadata": {},
   "outputs": [
    {
     "data": {
      "text/plain": [
       "device(type='cuda')"
      ]
     },
     "execution_count": 2,
     "metadata": {},
     "output_type": "execute_result"
    }
   ],
   "source": [
    "device = torch.device(\"cuda\" if torch.cuda.is_available() else \"cpu\")\n",
    "device"
   ]
  },
  {
   "cell_type": "code",
   "execution_count": 3,
   "metadata": {},
   "outputs": [],
   "source": [
    "def evaluate_accuracy(data_iter, net):\n",
    "    acc_sum, n = 0, 0\n",
    "    net.eval()\n",
    "    for X, y in data_iter:\n",
    "        X, y = X.to(device), y.to(device)\n",
    "        acc_sum += (net(X).argmax(axis=1) == y).sum()\n",
    "        n += y.shape[0]\n",
    "    return acc_sum.item() / n"
   ]
  },
  {
   "cell_type": "code",
   "execution_count": 4,
   "metadata": {},
   "outputs": [],
   "source": [
    "def train(net, train_iter, test_iter, trainer, num_epochs, device):\n",
    "    train_loss = []\n",
    "    net.to(device)\n",
    "    loss = nn.CrossEntropyLoss(reduction='sum')\n",
    "    net.train()\n",
    "    for epoch in range(num_epochs):\n",
    "        train_l_sum, train_acc_sum, n, start = 0.0, 0.0, 0, time.time()\n",
    "        \n",
    "        for i, (X, y) in enumerate(train_iter):\n",
    "            X, y = X.to(device), y.to(device)\n",
    "            trainer.zero_grad()\n",
    "            y_hat = net(X)\n",
    "            l = loss(y_hat, y)\n",
    "            l.backward()\n",
    "            trainer.step()\n",
    "            train_l_sum += l.item()\n",
    "            train_acc_sum += (y_hat.argmax(axis=1) == y).sum().item()\n",
    "            n += y.shape[0]\n",
    "\n",
    "            if i % 10 == 0:\n",
    "              print(f\"Step {i}. time since epoch: {time.time() -  start:.3f}. \" \n",
    "                    f\"Train acc: {train_acc_sum / n:.3f}. Train Loss: {train_l_sum / n:.3f}\")\n",
    "        test_acc = evaluate_accuracy(test_iter, net.to(device))\n",
    "        print('-' * 20)\n",
    "        train_loss.append(train_l_sum / n)\n",
    "        print(f'epoch {epoch + 1}, loss {train_l_sum / n:.4f}, train acc {train_acc_sum / n:.3f}'\n",
    "              f', test acc {test_acc:.3f}, time {time.time() - start:.1f} sec')\n",
    "    return train_loss"
   ]
  },
  {
   "cell_type": "code",
   "execution_count": 5,
   "metadata": {},
   "outputs": [],
   "source": [
    "BATCH_SIZE = 256\n",
    "transoforms = tv.transforms.Compose([\n",
    "    tv.transforms.Grayscale(3),\n",
    "    tv.transforms.Resize((224, 224)),\n",
    "    tv.transforms.ToTensor()\n",
    "])"
   ]
  },
  {
   "cell_type": "code",
   "execution_count": 6,
   "metadata": {},
   "outputs": [],
   "source": [
    "train_data = tv.datasets.EMNIST('.', split='letters', train=True, transform=transoforms, download=True)\n",
    "test_data = tv.datasets.EMNIST('.', split='letters', train=False, transform=transoforms, download=True)"
   ]
  },
  {
   "cell_type": "code",
   "execution_count": 7,
   "metadata": {},
   "outputs": [],
   "source": [
    "train_iter = torch.utils.data.DataLoader(train_data, batch_size=BATCH_SIZE)\n",
    "test_iter = torch.utils.data.DataLoader(test_data, batch_size=BATCH_SIZE)"
   ]
  },
  {
   "cell_type": "code",
   "execution_count": 8,
   "metadata": {},
   "outputs": [
    {
     "data": {
      "text/plain": [
       "torch.Size([3, 224, 224])"
      ]
     },
     "execution_count": 8,
     "metadata": {},
     "output_type": "execute_result"
    }
   ],
   "source": [
    "train_data[0][0].shape"
   ]
  },
  {
   "cell_type": "code",
   "execution_count": 10,
   "metadata": {},
   "outputs": [
    {
     "data": {
      "text/plain": [
       "['N/A',\n",
       " 'a',\n",
       " 'b',\n",
       " 'c',\n",
       " 'd',\n",
       " 'e',\n",
       " 'f',\n",
       " 'g',\n",
       " 'h',\n",
       " 'i',\n",
       " 'j',\n",
       " 'k',\n",
       " 'l',\n",
       " 'm',\n",
       " 'n',\n",
       " 'o',\n",
       " 'p',\n",
       " 'q',\n",
       " 'r',\n",
       " 's',\n",
       " 't',\n",
       " 'u',\n",
       " 'v',\n",
       " 'w',\n",
       " 'x',\n",
       " 'y',\n",
       " 'z']"
      ]
     },
     "execution_count": 10,
     "metadata": {},
     "output_type": "execute_result"
    }
   ],
   "source": [
    "train_data.classes"
   ]
  },
  {
   "cell_type": "markdown",
   "metadata": {},
   "source": [
    "# Модель ResNet18 "
   ]
  },
  {
   "cell_type": "code",
   "execution_count": 50,
   "metadata": {},
   "outputs": [
    {
     "name": "stderr",
     "output_type": "stream",
     "text": [
      "d:\\anaconda\\Lib\\site-packages\\torchvision\\models\\_utils.py:223: UserWarning: Arguments other than a weight enum or `None` for 'weights' are deprecated since 0.13 and may be removed in the future. The current behavior is equivalent to passing `weights=ResNet18_Weights.IMAGENET1K_V1`. You can also use `weights=ResNet18_Weights.DEFAULT` to get the most up-to-date weights.\n",
      "  warnings.warn(msg)\n"
     ]
    }
   ],
   "source": [
    "model = tv.models.resnet18(weights=True)"
   ]
  },
  {
   "cell_type": "code",
   "execution_count": null,
   "metadata": {},
   "outputs": [],
   "source": [
    "summary(model.to(device), input_size=(3, 224, 224))"
   ]
  },
  {
   "cell_type": "code",
   "execution_count": 52,
   "metadata": {},
   "outputs": [],
   "source": [
    "for param in model.parameters():\n",
    "    param.requires_grad = False"
   ]
  },
  {
   "cell_type": "code",
   "execution_count": 53,
   "metadata": {},
   "outputs": [
    {
     "data": {
      "text/plain": [
       "Linear(in_features=512, out_features=1000, bias=True)"
      ]
     },
     "execution_count": 53,
     "metadata": {},
     "output_type": "execute_result"
    }
   ],
   "source": [
    "model.fc"
   ]
  },
  {
   "cell_type": "code",
   "execution_count": 54,
   "metadata": {},
   "outputs": [],
   "source": [
    "model.fc = nn.Linear(in_features=512, out_features=27)"
   ]
  },
  {
   "cell_type": "code",
   "execution_count": 55,
   "metadata": {},
   "outputs": [
    {
     "name": "stdout",
     "output_type": "stream",
     "text": [
      "\t fc.weight\n",
      "\t fc.bias\n"
     ]
    }
   ],
   "source": [
    "params_to_update = []\n",
    "for name, param in model.named_parameters():\n",
    "    if param.requires_grad == True:\n",
    "        params_to_update.append(param)\n",
    "        print(\"\\t\",name)"
   ]
  },
  {
   "cell_type": "code",
   "execution_count": 56,
   "metadata": {},
   "outputs": [
    {
     "name": "stdout",
     "output_type": "stream",
     "text": [
      "env: CUDA_LAUNCH_BLOCKING=1\n",
      "env: TORCH_USE_CUDA_DSA=1\n"
     ]
    }
   ],
   "source": [
    "%env CUDA_LAUNCH_BLOCKING=1\n",
    "%env TORCH_USE_CUDA_DSA=1"
   ]
  },
  {
   "cell_type": "code",
   "execution_count": null,
   "metadata": {},
   "outputs": [],
   "source": [
    "lr, num_epochs = 0.01, 10\n",
    "trainer = torch.optim.Adam(params_to_update, lr=lr)\n",
    "network = train(model, train_iter, test_iter, trainer, num_epochs, device)"
   ]
  },
  {
   "cell_type": "code",
   "execution_count": 59,
   "metadata": {},
   "outputs": [
    {
     "data": {
      "text/html": [
       "<div>\n",
       "<style scoped>\n",
       "    .dataframe tbody tr th:only-of-type {\n",
       "        vertical-align: middle;\n",
       "    }\n",
       "\n",
       "    .dataframe tbody tr th {\n",
       "        vertical-align: top;\n",
       "    }\n",
       "\n",
       "    .dataframe thead th {\n",
       "        text-align: right;\n",
       "    }\n",
       "</style>\n",
       "<table border=\"1\" class=\"dataframe\">\n",
       "  <thead>\n",
       "    <tr style=\"text-align: right;\">\n",
       "      <th></th>\n",
       "      <th>Loss_res</th>\n",
       "    </tr>\n",
       "  </thead>\n",
       "  <tbody>\n",
       "    <tr>\n",
       "      <th>0</th>\n",
       "      <td>0.712833</td>\n",
       "    </tr>\n",
       "    <tr>\n",
       "      <th>1</th>\n",
       "      <td>0.539667</td>\n",
       "    </tr>\n",
       "    <tr>\n",
       "      <th>2</th>\n",
       "      <td>0.503659</td>\n",
       "    </tr>\n",
       "    <tr>\n",
       "      <th>3</th>\n",
       "      <td>0.485992</td>\n",
       "    </tr>\n",
       "    <tr>\n",
       "      <th>4</th>\n",
       "      <td>0.475368</td>\n",
       "    </tr>\n",
       "    <tr>\n",
       "      <th>5</th>\n",
       "      <td>0.467530</td>\n",
       "    </tr>\n",
       "    <tr>\n",
       "      <th>6</th>\n",
       "      <td>0.460795</td>\n",
       "    </tr>\n",
       "    <tr>\n",
       "      <th>7</th>\n",
       "      <td>0.455449</td>\n",
       "    </tr>\n",
       "    <tr>\n",
       "      <th>8</th>\n",
       "      <td>0.451231</td>\n",
       "    </tr>\n",
       "    <tr>\n",
       "      <th>9</th>\n",
       "      <td>0.447904</td>\n",
       "    </tr>\n",
       "  </tbody>\n",
       "</table>\n",
       "</div>"
      ],
      "text/plain": [
       "   Loss_res\n",
       "0  0.712833\n",
       "1  0.539667\n",
       "2  0.503659\n",
       "3  0.485992\n",
       "4  0.475368\n",
       "5  0.467530\n",
       "6  0.460795\n",
       "7  0.455449\n",
       "8  0.451231\n",
       "9  0.447904"
      ]
     },
     "execution_count": 59,
     "metadata": {},
     "output_type": "execute_result"
    }
   ],
   "source": [
    "df_res = pd.DataFrame({'Loss_res': network})\n",
    "\n",
    "df_res"
   ]
  },
  {
   "cell_type": "code",
   "execution_count": 77,
   "metadata": {},
   "outputs": [],
   "source": [
    "df_res.to_csv('resnet.csv', index= False)"
   ]
  },
  {
   "cell_type": "code",
   "execution_count": 60,
   "metadata": {},
   "outputs": [
    {
     "data": {
      "image/png": "[encoded data removed]",
      "text/plain": [
       "<Figure size 640x480 with 1 Axes>"
      ]
     },
     "metadata": {},
     "output_type": "display_data"
    }
   ],
   "source": [
    "plt.plot(network)\n",
    "plt.title('Training Loss over Epochs')\n",
    "plt.xlabel('Epoch')\n",
    "plt.ylabel('Loss')\n",
    "plt.show()"
   ]
  },
  {
   "cell_type": "markdown",
   "metadata": {},
   "source": [
    "# Модель VGG 16"
   ]
  },
  {
   "cell_type": "code",
   "execution_count": 9,
   "metadata": {},
   "outputs": [
    {
     "name": "stderr",
     "output_type": "stream",
     "text": [
      "d:\\anaconda\\Lib\\site-packages\\torchvision\\models\\_utils.py:208: UserWarning: The parameter 'pretrained' is deprecated since 0.13 and may be removed in the future, please use 'weights' instead.\n",
      "  warnings.warn(\n",
      "d:\\anaconda\\Lib\\site-packages\\torchvision\\models\\_utils.py:223: UserWarning: Arguments other than a weight enum or `None` for 'weights' are deprecated since 0.13 and may be removed in the future. The current behavior is equivalent to passing `weights=VGG16_Weights.IMAGENET1K_V1`. You can also use `weights=VGG16_Weights.DEFAULT` to get the most up-to-date weights.\n",
      "  warnings.warn(msg)\n"
     ]
    }
   ],
   "source": [
    "model = tv.models.vgg16(pretrained=True)"
   ]
  },
  {
   "cell_type": "code",
   "execution_count": 10,
   "metadata": {},
   "outputs": [
    {
     "name": "stdout",
     "output_type": "stream",
     "text": [
      "=================================================================\n",
      "Layer (type:depth-idx)                   Param #\n",
      "=================================================================\n",
      "├─Sequential: 1-1                        --\n",
      "|    └─Conv2d: 2-1                       1,792\n",
      "|    └─ReLU: 2-2                         --\n",
      "|    └─Conv2d: 2-3                       36,928\n",
      "|    └─ReLU: 2-4                         --\n",
      "|    └─MaxPool2d: 2-5                    --\n",
      "|    └─Conv2d: 2-6                       73,856\n",
      "|    └─ReLU: 2-7                         --\n",
      "|    └─Conv2d: 2-8                       147,584\n",
      "|    └─ReLU: 2-9                         --\n",
      "|    └─MaxPool2d: 2-10                   --\n",
      "|    └─Conv2d: 2-11                      295,168\n",
      "|    └─ReLU: 2-12                        --\n",
      "|    └─Conv2d: 2-13                      590,080\n",
      "|    └─ReLU: 2-14                        --\n",
      "|    └─Conv2d: 2-15                      590,080\n",
      "|    └─ReLU: 2-16                        --\n",
      "|    └─MaxPool2d: 2-17                   --\n",
      "|    └─Conv2d: 2-18                      1,180,160\n",
      "|    └─ReLU: 2-19                        --\n",
      "|    └─Conv2d: 2-20                      2,359,808\n",
      "|    └─ReLU: 2-21                        --\n",
      "|    └─Conv2d: 2-22                      2,359,808\n",
      "|    └─ReLU: 2-23                        --\n",
      "|    └─MaxPool2d: 2-24                   --\n",
      "|    └─Conv2d: 2-25                      2,359,808\n",
      "|    └─ReLU: 2-26                        --\n",
      "|    └─Conv2d: 2-27                      2,359,808\n",
      "|    └─ReLU: 2-28                        --\n",
      "|    └─Conv2d: 2-29                      2,359,808\n",
      "|    └─ReLU: 2-30                        --\n",
      "|    └─MaxPool2d: 2-31                   --\n",
      "├─AdaptiveAvgPool2d: 1-2                 --\n",
      "├─Sequential: 1-3                        --\n",
      "|    └─Linear: 2-32                      102,764,544\n",
      "|    └─ReLU: 2-33                        --\n",
      "|    └─Dropout: 2-34                     --\n",
      "|    └─Linear: 2-35                      16,781,312\n",
      "|    └─ReLU: 2-36                        --\n",
      "|    └─Dropout: 2-37                     --\n",
      "|    └─Linear: 2-38                      4,097,000\n",
      "=================================================================\n",
      "Total params: 138,357,544\n",
      "Trainable params: 138,357,544\n",
      "Non-trainable params: 0\n",
      "=================================================================\n"
     ]
    },
    {
     "data": {
      "text/plain": [
       "=================================================================\n",
       "Layer (type:depth-idx)                   Param #\n",
       "=================================================================\n",
       "├─Sequential: 1-1                        --\n",
       "|    └─Conv2d: 2-1                       1,792\n",
       "|    └─ReLU: 2-2                         --\n",
       "|    └─Conv2d: 2-3                       36,928\n",
       "|    └─ReLU: 2-4                         --\n",
       "|    └─MaxPool2d: 2-5                    --\n",
       "|    └─Conv2d: 2-6                       73,856\n",
       "|    └─ReLU: 2-7                         --\n",
       "|    └─Conv2d: 2-8                       147,584\n",
       "|    └─ReLU: 2-9                         --\n",
       "|    └─MaxPool2d: 2-10                   --\n",
       "|    └─Conv2d: 2-11                      295,168\n",
       "|    └─ReLU: 2-12                        --\n",
       "|    └─Conv2d: 2-13                      590,080\n",
       "|    └─ReLU: 2-14                        --\n",
       "|    └─Conv2d: 2-15                      590,080\n",
       "|    └─ReLU: 2-16                        --\n",
       "|    └─MaxPool2d: 2-17                   --\n",
       "|    └─Conv2d: 2-18                      1,180,160\n",
       "|    └─ReLU: 2-19                        --\n",
       "|    └─Conv2d: 2-20                      2,359,808\n",
       "|    └─ReLU: 2-21                        --\n",
       "|    └─Conv2d: 2-22                      2,359,808\n",
       "|    └─ReLU: 2-23                        --\n",
       "|    └─MaxPool2d: 2-24                   --\n",
       "|    └─Conv2d: 2-25                      2,359,808\n",
       "|    └─ReLU: 2-26                        --\n",
       "|    └─Conv2d: 2-27                      2,359,808\n",
       "|    └─ReLU: 2-28                        --\n",
       "|    └─Conv2d: 2-29                      2,359,808\n",
       "|    └─ReLU: 2-30                        --\n",
       "|    └─MaxPool2d: 2-31                   --\n",
       "├─AdaptiveAvgPool2d: 1-2                 --\n",
       "├─Sequential: 1-3                        --\n",
       "|    └─Linear: 2-32                      102,764,544\n",
       "|    └─ReLU: 2-33                        --\n",
       "|    └─Dropout: 2-34                     --\n",
       "|    └─Linear: 2-35                      16,781,312\n",
       "|    └─ReLU: 2-36                        --\n",
       "|    └─Dropout: 2-37                     --\n",
       "|    └─Linear: 2-38                      4,097,000\n",
       "=================================================================\n",
       "Total params: 138,357,544\n",
       "Trainable params: 138,357,544\n",
       "Non-trainable params: 0\n",
       "================================================================="
      ]
     },
     "execution_count": 10,
     "metadata": {},
     "output_type": "execute_result"
    }
   ],
   "source": [
    "summary(model.to(device), input_size=(3, 224, 224))"
   ]
  },
  {
   "cell_type": "code",
   "execution_count": 11,
   "metadata": {},
   "outputs": [],
   "source": [
    "for param in model.parameters():\n",
    "    param.requires_grad = False\n",
    "\n",
    "\n",
    "model.classifier[-1] = nn.Linear(in_features=4096, out_features=27)"
   ]
  },
  {
   "cell_type": "code",
   "execution_count": 12,
   "metadata": {},
   "outputs": [
    {
     "name": "stdout",
     "output_type": "stream",
     "text": [
      "\t classifier.6.weight\n",
      "\t classifier.6.bias\n"
     ]
    }
   ],
   "source": [
    "params_to_update = []\n",
    "for name, param in model.named_parameters():\n",
    "    if param.requires_grad == True:\n",
    "        params_to_update.append(param)\n",
    "        print(\"\\t\",name)"
   ]
  },
  {
   "cell_type": "code",
   "execution_count": null,
   "metadata": {},
   "outputs": [],
   "source": [
    "lr, num_epochs = 0.01, 10\n",
    "trainer = torch.optim.Adam(params_to_update, lr=lr)\n",
    "network = train(model, train_iter, test_iter, trainer, num_epochs, device)"
   ]
  },
  {
   "cell_type": "code",
   "execution_count": 14,
   "metadata": {},
   "outputs": [
    {
     "data": {
      "text/html": [
       "<div>\n",
       "<style scoped>\n",
       "    .dataframe tbody tr th:only-of-type {\n",
       "        vertical-align: middle;\n",
       "    }\n",
       "\n",
       "    .dataframe tbody tr th {\n",
       "        vertical-align: top;\n",
       "    }\n",
       "\n",
       "    .dataframe thead th {\n",
       "        text-align: right;\n",
       "    }\n",
       "</style>\n",
       "<table border=\"1\" class=\"dataframe\">\n",
       "  <thead>\n",
       "    <tr style=\"text-align: right;\">\n",
       "      <th></th>\n",
       "      <th>Loss_vgg</th>\n",
       "    </tr>\n",
       "  </thead>\n",
       "  <tbody>\n",
       "    <tr>\n",
       "      <th>0</th>\n",
       "      <td>1.470920</td>\n",
       "    </tr>\n",
       "    <tr>\n",
       "      <th>1</th>\n",
       "      <td>0.494945</td>\n",
       "    </tr>\n",
       "    <tr>\n",
       "      <th>2</th>\n",
       "      <td>0.400627</td>\n",
       "    </tr>\n",
       "    <tr>\n",
       "      <th>3</th>\n",
       "      <td>0.360682</td>\n",
       "    </tr>\n",
       "    <tr>\n",
       "      <th>4</th>\n",
       "      <td>0.337608</td>\n",
       "    </tr>\n",
       "    <tr>\n",
       "      <th>5</th>\n",
       "      <td>0.327039</td>\n",
       "    </tr>\n",
       "    <tr>\n",
       "      <th>6</th>\n",
       "      <td>0.317844</td>\n",
       "    </tr>\n",
       "    <tr>\n",
       "      <th>7</th>\n",
       "      <td>0.313864</td>\n",
       "    </tr>\n",
       "    <tr>\n",
       "      <th>8</th>\n",
       "      <td>0.318096</td>\n",
       "    </tr>\n",
       "    <tr>\n",
       "      <th>9</th>\n",
       "      <td>0.338359</td>\n",
       "    </tr>\n",
       "  </tbody>\n",
       "</table>\n",
       "</div>"
      ],
      "text/plain": [
       "   Loss_vgg\n",
       "0  1.470920\n",
       "1  0.494945\n",
       "2  0.400627\n",
       "3  0.360682\n",
       "4  0.337608\n",
       "5  0.327039\n",
       "6  0.317844\n",
       "7  0.313864\n",
       "8  0.318096\n",
       "9  0.338359"
      ]
     },
     "execution_count": 14,
     "metadata": {},
     "output_type": "execute_result"
    }
   ],
   "source": [
    "df_vgg = pd.DataFrame({'Loss_vgg': network})\n",
    "\n",
    "df_vgg"
   ]
  },
  {
   "cell_type": "code",
   "execution_count": 15,
   "metadata": {},
   "outputs": [
    {
     "data": {
      "image/png": "[encoded data removed]",
      "text/plain": [
       "<Figure size 640x480 with 1 Axes>"
      ]
     },
     "metadata": {},
     "output_type": "display_data"
    }
   ],
   "source": [
    "plt.plot(network)\n",
    "plt.title('Training Loss over Epochs VGG')\n",
    "plt.xlabel('Epoch')\n",
    "plt.ylabel('Loss')\n",
    "plt.show()"
   ]
  },
  {
   "cell_type": "markdown",
   "metadata": {},
   "source": [
    "# Модель Inception V3"
   ]
  },
  {
   "cell_type": "code",
   "execution_count": 61,
   "metadata": {},
   "outputs": [],
   "source": [
    "BATCH_SIZE = 256\n",
    "transoforms = tv.transforms.Compose([\n",
    "    tv.transforms.Grayscale(3),\n",
    "    tv.transforms.Resize((299, 299)),\n",
    "    tv.transforms.ToTensor()\n",
    "])"
   ]
  },
  {
   "cell_type": "code",
   "execution_count": 62,
   "metadata": {},
   "outputs": [],
   "source": [
    "train_data = tv.datasets.EMNIST('.', split='letters', train=True, transform=transoforms, download=True)\n",
    "test_data = tv.datasets.EMNIST('.', split='letters', train=False, transform=transoforms, download=True)"
   ]
  },
  {
   "cell_type": "code",
   "execution_count": 63,
   "metadata": {},
   "outputs": [],
   "source": [
    "train_iter = torch.utils.data.DataLoader(train_data, batch_size=BATCH_SIZE)\n",
    "test_iter = torch.utils.data.DataLoader(test_data, batch_size=BATCH_SIZE)"
   ]
  },
  {
   "cell_type": "code",
   "execution_count": 64,
   "metadata": {},
   "outputs": [
    {
     "name": "stderr",
     "output_type": "stream",
     "text": [
      "Using cache found in C:\\Users\\79169/.cache\\torch\\hub\\pytorch_vision_v0.10.0\n",
      "d:\\anaconda\\Lib\\site-packages\\torchvision\\models\\_utils.py:208: UserWarning: The parameter 'pretrained' is deprecated since 0.13 and may be removed in the future, please use 'weights' instead.\n",
      "  warnings.warn(\n",
      "d:\\anaconda\\Lib\\site-packages\\torchvision\\models\\_utils.py:223: UserWarning: Arguments other than a weight enum or `None` for 'weights' are deprecated since 0.13 and may be removed in the future. The current behavior is equivalent to passing `weights=Inception_V3_Weights.IMAGENET1K_V1`. You can also use `weights=Inception_V3_Weights.DEFAULT` to get the most up-to-date weights.\n",
      "  warnings.warn(msg)\n"
     ]
    }
   ],
   "source": [
    "model = torch.hub.load('pytorch/vision:v0.10.0', 'inception_v3', pretrained=True)"
   ]
  },
  {
   "cell_type": "code",
   "execution_count": 65,
   "metadata": {},
   "outputs": [
    {
     "name": "stdout",
     "output_type": "stream",
     "text": [
      "=================================================================\n",
      "Layer (type:depth-idx)                   Param #\n",
      "=================================================================\n",
      "├─BasicConv2d: 1-1                       --\n",
      "|    └─Conv2d: 2-1                       864\n",
      "|    └─BatchNorm2d: 2-2                  64\n",
      "├─BasicConv2d: 1-2                       --\n",
      "|    └─Conv2d: 2-3                       9,216\n",
      "|    └─BatchNorm2d: 2-4                  64\n",
      "├─BasicConv2d: 1-3                       --\n",
      "|    └─Conv2d: 2-5                       18,432\n",
      "|    └─BatchNorm2d: 2-6                  128\n",
      "├─MaxPool2d: 1-4                         --\n",
      "├─BasicConv2d: 1-5                       --\n",
      "|    └─Conv2d: 2-7                       5,120\n",
      "|    └─BatchNorm2d: 2-8                  160\n",
      "├─BasicConv2d: 1-6                       --\n",
      "|    └─Conv2d: 2-9                       138,240\n",
      "|    └─BatchNorm2d: 2-10                 384\n",
      "├─MaxPool2d: 1-7                         --\n",
      "├─InceptionA: 1-8                        --\n",
      "|    └─BasicConv2d: 2-11                 --\n",
      "|    |    └─Conv2d: 3-1                  12,288\n",
      "|    |    └─BatchNorm2d: 3-2             128\n",
      "|    └─BasicConv2d: 2-12                 --\n",
      "|    |    └─Conv2d: 3-3                  9,216\n",
      "|    |    └─BatchNorm2d: 3-4             96\n",
      "|    └─BasicConv2d: 2-13                 --\n",
      "|    |    └─Conv2d: 3-5                  76,800\n",
      "|    |    └─BatchNorm2d: 3-6             128\n",
      "|    └─BasicConv2d: 2-14                 --\n",
      "|    |    └─Conv2d: 3-7                  12,288\n",
      "|    |    └─BatchNorm2d: 3-8             128\n",
      "|    └─BasicConv2d: 2-15                 --\n",
      "|    |    └─Conv2d: 3-9                  55,296\n",
      "|    |    └─BatchNorm2d: 3-10            192\n",
      "|    └─BasicConv2d: 2-16                 --\n",
      "|    |    └─Conv2d: 3-11                 82,944\n",
      "|    |    └─BatchNorm2d: 3-12            192\n",
      "|    └─BasicConv2d: 2-17                 --\n",
      "|    |    └─Conv2d: 3-13                 6,144\n",
      "|    |    └─BatchNorm2d: 3-14            64\n",
      "├─InceptionA: 1-9                        --\n",
      "|    └─BasicConv2d: 2-18                 --\n",
      "|    |    └─Conv2d: 3-15                 16,384\n",
      "|    |    └─BatchNorm2d: 3-16            128\n",
      "|    └─BasicConv2d: 2-19                 --\n",
      "|    |    └─Conv2d: 3-17                 12,288\n",
      "|    |    └─BatchNorm2d: 3-18            96\n",
      "|    └─BasicConv2d: 2-20                 --\n",
      "|    |    └─Conv2d: 3-19                 76,800\n",
      "|    |    └─BatchNorm2d: 3-20            128\n",
      "|    └─BasicConv2d: 2-21                 --\n",
      "|    |    └─Conv2d: 3-21                 16,384\n",
      "|    |    └─BatchNorm2d: 3-22            128\n",
      "|    └─BasicConv2d: 2-22                 --\n",
      "|    |    └─Conv2d: 3-23                 55,296\n",
      "|    |    └─BatchNorm2d: 3-24            192\n",
      "|    └─BasicConv2d: 2-23                 --\n",
      "|    |    └─Conv2d: 3-25                 82,944\n",
      "|    |    └─BatchNorm2d: 3-26            192\n",
      "|    └─BasicConv2d: 2-24                 --\n",
      "|    |    └─Conv2d: 3-27                 16,384\n",
      "|    |    └─BatchNorm2d: 3-28            128\n",
      "├─InceptionA: 1-10                       --\n",
      "|    └─BasicConv2d: 2-25                 --\n",
      "|    |    └─Conv2d: 3-29                 18,432\n",
      "|    |    └─BatchNorm2d: 3-30            128\n",
      "|    └─BasicConv2d: 2-26                 --\n",
      "|    |    └─Conv2d: 3-31                 13,824\n",
      "|    |    └─BatchNorm2d: 3-32            96\n",
      "|    └─BasicConv2d: 2-27                 --\n",
      "|    |    └─Conv2d: 3-33                 76,800\n",
      "|    |    └─BatchNorm2d: 3-34            128\n",
      "|    └─BasicConv2d: 2-28                 --\n",
      "|    |    └─Conv2d: 3-35                 18,432\n",
      "|    |    └─BatchNorm2d: 3-36            128\n",
      "|    └─BasicConv2d: 2-29                 --\n",
      "|    |    └─Conv2d: 3-37                 55,296\n",
      "|    |    └─BatchNorm2d: 3-38            192\n",
      "|    └─BasicConv2d: 2-30                 --\n",
      "|    |    └─Conv2d: 3-39                 82,944\n",
      "|    |    └─BatchNorm2d: 3-40            192\n",
      "|    └─BasicConv2d: 2-31                 --\n",
      "|    |    └─Conv2d: 3-41                 18,432\n",
      "|    |    └─BatchNorm2d: 3-42            128\n",
      "├─InceptionB: 1-11                       --\n",
      "|    └─BasicConv2d: 2-32                 --\n",
      "|    |    └─Conv2d: 3-43                 995,328\n",
      "|    |    └─BatchNorm2d: 3-44            768\n",
      "|    └─BasicConv2d: 2-33                 --\n",
      "|    |    └─Conv2d: 3-45                 18,432\n",
      "|    |    └─BatchNorm2d: 3-46            128\n",
      "|    └─BasicConv2d: 2-34                 --\n",
      "|    |    └─Conv2d: 3-47                 55,296\n",
      "|    |    └─BatchNorm2d: 3-48            192\n",
      "|    └─BasicConv2d: 2-35                 --\n",
      "|    |    └─Conv2d: 3-49                 82,944\n",
      "|    |    └─BatchNorm2d: 3-50            192\n",
      "├─InceptionC: 1-12                       --\n",
      "|    └─BasicConv2d: 2-36                 --\n",
      "|    |    └─Conv2d: 3-51                 147,456\n",
      "|    |    └─BatchNorm2d: 3-52            384\n",
      "|    └─BasicConv2d: 2-37                 --\n",
      "|    |    └─Conv2d: 3-53                 98,304\n",
      "|    |    └─BatchNorm2d: 3-54            256\n",
      "|    └─BasicConv2d: 2-38                 --\n",
      "|    |    └─Conv2d: 3-55                 114,688\n",
      "|    |    └─BatchNorm2d: 3-56            256\n",
      "|    └─BasicConv2d: 2-39                 --\n",
      "|    |    └─Conv2d: 3-57                 172,032\n",
      "|    |    └─BatchNorm2d: 3-58            384\n",
      "|    └─BasicConv2d: 2-40                 --\n",
      "|    |    └─Conv2d: 3-59                 98,304\n",
      "|    |    └─BatchNorm2d: 3-60            256\n",
      "|    └─BasicConv2d: 2-41                 --\n",
      "|    |    └─Conv2d: 3-61                 114,688\n",
      "|    |    └─BatchNorm2d: 3-62            256\n",
      "|    └─BasicConv2d: 2-42                 --\n",
      "|    |    └─Conv2d: 3-63                 114,688\n",
      "|    |    └─BatchNorm2d: 3-64            256\n",
      "|    └─BasicConv2d: 2-43                 --\n",
      "|    |    └─Conv2d: 3-65                 114,688\n",
      "|    |    └─BatchNorm2d: 3-66            256\n",
      "|    └─BasicConv2d: 2-44                 --\n",
      "|    |    └─Conv2d: 3-67                 172,032\n",
      "|    |    └─BatchNorm2d: 3-68            384\n",
      "|    └─BasicConv2d: 2-45                 --\n",
      "|    |    └─Conv2d: 3-69                 147,456\n",
      "|    |    └─BatchNorm2d: 3-70            384\n",
      "├─InceptionC: 1-13                       --\n",
      "|    └─BasicConv2d: 2-46                 --\n",
      "|    |    └─Conv2d: 3-71                 147,456\n",
      "|    |    └─BatchNorm2d: 3-72            384\n",
      "|    └─BasicConv2d: 2-47                 --\n",
      "|    |    └─Conv2d: 3-73                 122,880\n",
      "|    |    └─BatchNorm2d: 3-74            320\n",
      "|    └─BasicConv2d: 2-48                 --\n",
      "|    |    └─Conv2d: 3-75                 179,200\n",
      "|    |    └─BatchNorm2d: 3-76            320\n",
      "|    └─BasicConv2d: 2-49                 --\n",
      "|    |    └─Conv2d: 3-77                 215,040\n",
      "|    |    └─BatchNorm2d: 3-78            384\n",
      "|    └─BasicConv2d: 2-50                 --\n",
      "|    |    └─Conv2d: 3-79                 122,880\n",
      "|    |    └─BatchNorm2d: 3-80            320\n",
      "|    └─BasicConv2d: 2-51                 --\n",
      "|    |    └─Conv2d: 3-81                 179,200\n",
      "|    |    └─BatchNorm2d: 3-82            320\n",
      "|    └─BasicConv2d: 2-52                 --\n",
      "|    |    └─Conv2d: 3-83                 179,200\n",
      "|    |    └─BatchNorm2d: 3-84            320\n",
      "|    └─BasicConv2d: 2-53                 --\n",
      "|    |    └─Conv2d: 3-85                 179,200\n",
      "|    |    └─BatchNorm2d: 3-86            320\n",
      "|    └─BasicConv2d: 2-54                 --\n",
      "|    |    └─Conv2d: 3-87                 215,040\n",
      "|    |    └─BatchNorm2d: 3-88            384\n",
      "|    └─BasicConv2d: 2-55                 --\n",
      "|    |    └─Conv2d: 3-89                 147,456\n",
      "|    |    └─BatchNorm2d: 3-90            384\n",
      "├─InceptionC: 1-14                       --\n",
      "|    └─BasicConv2d: 2-56                 --\n",
      "|    |    └─Conv2d: 3-91                 147,456\n",
      "|    |    └─BatchNorm2d: 3-92            384\n",
      "|    └─BasicConv2d: 2-57                 --\n",
      "|    |    └─Conv2d: 3-93                 122,880\n",
      "|    |    └─BatchNorm2d: 3-94            320\n",
      "|    └─BasicConv2d: 2-58                 --\n",
      "|    |    └─Conv2d: 3-95                 179,200\n",
      "|    |    └─BatchNorm2d: 3-96            320\n",
      "|    └─BasicConv2d: 2-59                 --\n",
      "|    |    └─Conv2d: 3-97                 215,040\n",
      "|    |    └─BatchNorm2d: 3-98            384\n",
      "|    └─BasicConv2d: 2-60                 --\n",
      "|    |    └─Conv2d: 3-99                 122,880\n",
      "|    |    └─BatchNorm2d: 3-100           320\n",
      "|    └─BasicConv2d: 2-61                 --\n",
      "|    |    └─Conv2d: 3-101                179,200\n",
      "|    |    └─BatchNorm2d: 3-102           320\n",
      "|    └─BasicConv2d: 2-62                 --\n",
      "|    |    └─Conv2d: 3-103                179,200\n",
      "|    |    └─BatchNorm2d: 3-104           320\n",
      "|    └─BasicConv2d: 2-63                 --\n",
      "|    |    └─Conv2d: 3-105                179,200\n",
      "|    |    └─BatchNorm2d: 3-106           320\n",
      "|    └─BasicConv2d: 2-64                 --\n",
      "|    |    └─Conv2d: 3-107                215,040\n",
      "|    |    └─BatchNorm2d: 3-108           384\n",
      "|    └─BasicConv2d: 2-65                 --\n",
      "|    |    └─Conv2d: 3-109                147,456\n",
      "|    |    └─BatchNorm2d: 3-110           384\n",
      "├─InceptionC: 1-15                       --\n",
      "|    └─BasicConv2d: 2-66                 --\n",
      "|    |    └─Conv2d: 3-111                147,456\n",
      "|    |    └─BatchNorm2d: 3-112           384\n",
      "|    └─BasicConv2d: 2-67                 --\n",
      "|    |    └─Conv2d: 3-113                147,456\n",
      "|    |    └─BatchNorm2d: 3-114           384\n",
      "|    └─BasicConv2d: 2-68                 --\n",
      "|    |    └─Conv2d: 3-115                258,048\n",
      "|    |    └─BatchNorm2d: 3-116           384\n",
      "|    └─BasicConv2d: 2-69                 --\n",
      "|    |    └─Conv2d: 3-117                258,048\n",
      "|    |    └─BatchNorm2d: 3-118           384\n",
      "|    └─BasicConv2d: 2-70                 --\n",
      "|    |    └─Conv2d: 3-119                147,456\n",
      "|    |    └─BatchNorm2d: 3-120           384\n",
      "|    └─BasicConv2d: 2-71                 --\n",
      "|    |    └─Conv2d: 3-121                258,048\n",
      "|    |    └─BatchNorm2d: 3-122           384\n",
      "|    └─BasicConv2d: 2-72                 --\n",
      "|    |    └─Conv2d: 3-123                258,048\n",
      "|    |    └─BatchNorm2d: 3-124           384\n",
      "|    └─BasicConv2d: 2-73                 --\n",
      "|    |    └─Conv2d: 3-125                258,048\n",
      "|    |    └─BatchNorm2d: 3-126           384\n",
      "|    └─BasicConv2d: 2-74                 --\n",
      "|    |    └─Conv2d: 3-127                258,048\n",
      "|    |    └─BatchNorm2d: 3-128           384\n",
      "|    └─BasicConv2d: 2-75                 --\n",
      "|    |    └─Conv2d: 3-129                147,456\n",
      "|    |    └─BatchNorm2d: 3-130           384\n",
      "├─InceptionAux: 1-16                     --\n",
      "|    └─BasicConv2d: 2-76                 --\n",
      "|    |    └─Conv2d: 3-131                98,304\n",
      "|    |    └─BatchNorm2d: 3-132           256\n",
      "|    └─BasicConv2d: 2-77                 --\n",
      "|    |    └─Conv2d: 3-133                2,457,600\n",
      "|    |    └─BatchNorm2d: 3-134           1,536\n",
      "|    └─Linear: 2-78                      769,000\n",
      "├─InceptionD: 1-17                       --\n",
      "|    └─BasicConv2d: 2-79                 --\n",
      "|    |    └─Conv2d: 3-135                147,456\n",
      "|    |    └─BatchNorm2d: 3-136           384\n",
      "|    └─BasicConv2d: 2-80                 --\n",
      "|    |    └─Conv2d: 3-137                552,960\n",
      "|    |    └─BatchNorm2d: 3-138           640\n",
      "|    └─BasicConv2d: 2-81                 --\n",
      "|    |    └─Conv2d: 3-139                147,456\n",
      "|    |    └─BatchNorm2d: 3-140           384\n",
      "|    └─BasicConv2d: 2-82                 --\n",
      "|    |    └─Conv2d: 3-141                258,048\n",
      "|    |    └─BatchNorm2d: 3-142           384\n",
      "|    └─BasicConv2d: 2-83                 --\n",
      "|    |    └─Conv2d: 3-143                258,048\n",
      "|    |    └─BatchNorm2d: 3-144           384\n",
      "|    └─BasicConv2d: 2-84                 --\n",
      "|    |    └─Conv2d: 3-145                331,776\n",
      "|    |    └─BatchNorm2d: 3-146           384\n",
      "├─InceptionE: 1-18                       --\n",
      "|    └─BasicConv2d: 2-85                 --\n",
      "|    |    └─Conv2d: 3-147                409,600\n",
      "|    |    └─BatchNorm2d: 3-148           640\n",
      "|    └─BasicConv2d: 2-86                 --\n",
      "|    |    └─Conv2d: 3-149                491,520\n",
      "|    |    └─BatchNorm2d: 3-150           768\n",
      "|    └─BasicConv2d: 2-87                 --\n",
      "|    |    └─Conv2d: 3-151                442,368\n",
      "|    |    └─BatchNorm2d: 3-152           768\n",
      "|    └─BasicConv2d: 2-88                 --\n",
      "|    |    └─Conv2d: 3-153                442,368\n",
      "|    |    └─BatchNorm2d: 3-154           768\n",
      "|    └─BasicConv2d: 2-89                 --\n",
      "|    |    └─Conv2d: 3-155                573,440\n",
      "|    |    └─BatchNorm2d: 3-156           896\n",
      "|    └─BasicConv2d: 2-90                 --\n",
      "|    |    └─Conv2d: 3-157                1,548,288\n",
      "|    |    └─BatchNorm2d: 3-158           768\n",
      "|    └─BasicConv2d: 2-91                 --\n",
      "|    |    └─Conv2d: 3-159                442,368\n",
      "|    |    └─BatchNorm2d: 3-160           768\n",
      "|    └─BasicConv2d: 2-92                 --\n",
      "|    |    └─Conv2d: 3-161                442,368\n",
      "|    |    └─BatchNorm2d: 3-162           768\n",
      "|    └─BasicConv2d: 2-93                 --\n",
      "|    |    └─Conv2d: 3-163                245,760\n",
      "|    |    └─BatchNorm2d: 3-164           384\n",
      "├─InceptionE: 1-19                       --\n",
      "|    └─BasicConv2d: 2-94                 --\n",
      "|    |    └─Conv2d: 3-165                655,360\n",
      "|    |    └─BatchNorm2d: 3-166           640\n",
      "|    └─BasicConv2d: 2-95                 --\n",
      "|    |    └─Conv2d: 3-167                786,432\n",
      "|    |    └─BatchNorm2d: 3-168           768\n",
      "|    └─BasicConv2d: 2-96                 --\n",
      "|    |    └─Conv2d: 3-169                442,368\n",
      "|    |    └─BatchNorm2d: 3-170           768\n",
      "|    └─BasicConv2d: 2-97                 --\n",
      "|    |    └─Conv2d: 3-171                442,368\n",
      "|    |    └─BatchNorm2d: 3-172           768\n",
      "|    └─BasicConv2d: 2-98                 --\n",
      "|    |    └─Conv2d: 3-173                917,504\n",
      "|    |    └─BatchNorm2d: 3-174           896\n",
      "|    └─BasicConv2d: 2-99                 --\n",
      "|    |    └─Conv2d: 3-175                1,548,288\n",
      "|    |    └─BatchNorm2d: 3-176           768\n",
      "|    └─BasicConv2d: 2-100                --\n",
      "|    |    └─Conv2d: 3-177                442,368\n",
      "|    |    └─BatchNorm2d: 3-178           768\n",
      "|    └─BasicConv2d: 2-101                --\n",
      "|    |    └─Conv2d: 3-179                442,368\n",
      "|    |    └─BatchNorm2d: 3-180           768\n",
      "|    └─BasicConv2d: 2-102                --\n",
      "|    |    └─Conv2d: 3-181                393,216\n",
      "|    |    └─BatchNorm2d: 3-182           384\n",
      "├─AdaptiveAvgPool2d: 1-20                --\n",
      "├─Dropout: 1-21                          --\n",
      "├─Linear: 1-22                           2,049,000\n",
      "=================================================================\n",
      "Total params: 27,161,264\n",
      "Trainable params: 27,161,264\n",
      "Non-trainable params: 0\n",
      "=================================================================\n"
     ]
    },
    {
     "data": {
      "text/plain": [
       "=================================================================\n",
       "Layer (type:depth-idx)                   Param #\n",
       "=================================================================\n",
       "├─BasicConv2d: 1-1                       --\n",
       "|    └─Conv2d: 2-1                       864\n",
       "|    └─BatchNorm2d: 2-2                  64\n",
       "├─BasicConv2d: 1-2                       --\n",
       "|    └─Conv2d: 2-3                       9,216\n",
       "|    └─BatchNorm2d: 2-4                  64\n",
       "├─BasicConv2d: 1-3                       --\n",
       "|    └─Conv2d: 2-5                       18,432\n",
       "|    └─BatchNorm2d: 2-6                  128\n",
       "├─MaxPool2d: 1-4                         --\n",
       "├─BasicConv2d: 1-5                       --\n",
       "|    └─Conv2d: 2-7                       5,120\n",
       "|    └─BatchNorm2d: 2-8                  160\n",
       "├─BasicConv2d: 1-6                       --\n",
       "|    └─Conv2d: 2-9                       138,240\n",
       "|    └─BatchNorm2d: 2-10                 384\n",
       "├─MaxPool2d: 1-7                         --\n",
       "├─InceptionA: 1-8                        --\n",
       "|    └─BasicConv2d: 2-11                 --\n",
       "|    |    └─Conv2d: 3-1                  12,288\n",
       "|    |    └─BatchNorm2d: 3-2             128\n",
       "|    └─BasicConv2d: 2-12                 --\n",
       "|    |    └─Conv2d: 3-3                  9,216\n",
       "|    |    └─BatchNorm2d: 3-4             96\n",
       "|    └─BasicConv2d: 2-13                 --\n",
       "|    |    └─Conv2d: 3-5                  76,800\n",
       "|    |    └─BatchNorm2d: 3-6             128\n",
       "|    └─BasicConv2d: 2-14                 --\n",
       "|    |    └─Conv2d: 3-7                  12,288\n",
       "|    |    └─BatchNorm2d: 3-8             128\n",
       "|    └─BasicConv2d: 2-15                 --\n",
       "|    |    └─Conv2d: 3-9                  55,296\n",
       "|    |    └─BatchNorm2d: 3-10            192\n",
       "|    └─BasicConv2d: 2-16                 --\n",
       "|    |    └─Conv2d: 3-11                 82,944\n",
       "|    |    └─BatchNorm2d: 3-12            192\n",
       "|    └─BasicConv2d: 2-17                 --\n",
       "|    |    └─Conv2d: 3-13                 6,144\n",
       "|    |    └─BatchNorm2d: 3-14            64\n",
       "├─InceptionA: 1-9                        --\n",
       "|    └─BasicConv2d: 2-18                 --\n",
       "|    |    └─Conv2d: 3-15                 16,384\n",
       "|    |    └─BatchNorm2d: 3-16            128\n",
       "|    └─BasicConv2d: 2-19                 --\n",
       "|    |    └─Conv2d: 3-17                 12,288\n",
       "|    |    └─BatchNorm2d: 3-18            96\n",
       "|    └─BasicConv2d: 2-20                 --\n",
       "|    |    └─Conv2d: 3-19                 76,800\n",
       "|    |    └─BatchNorm2d: 3-20            128\n",
       "|    └─BasicConv2d: 2-21                 --\n",
       "|    |    └─Conv2d: 3-21                 16,384\n",
       "|    |    └─BatchNorm2d: 3-22            128\n",
       "|    └─BasicConv2d: 2-22                 --\n",
       "|    |    └─Conv2d: 3-23                 55,296\n",
       "|    |    └─BatchNorm2d: 3-24            192\n",
       "|    └─BasicConv2d: 2-23                 --\n",
       "|    |    └─Conv2d: 3-25                 82,944\n",
       "|    |    └─BatchNorm2d: 3-26            192\n",
       "|    └─BasicConv2d: 2-24                 --\n",
       "|    |    └─Conv2d: 3-27                 16,384\n",
       "|    |    └─BatchNorm2d: 3-28            128\n",
       "├─InceptionA: 1-10                       --\n",
       "|    └─BasicConv2d: 2-25                 --\n",
       "|    |    └─Conv2d: 3-29                 18,432\n",
       "|    |    └─BatchNorm2d: 3-30            128\n",
       "|    └─BasicConv2d: 2-26                 --\n",
       "|    |    └─Conv2d: 3-31                 13,824\n",
       "|    |    └─BatchNorm2d: 3-32            96\n",
       "|    └─BasicConv2d: 2-27                 --\n",
       "|    |    └─Conv2d: 3-33                 76,800\n",
       "|    |    └─BatchNorm2d: 3-34            128\n",
       "|    └─BasicConv2d: 2-28                 --\n",
       "|    |    └─Conv2d: 3-35                 18,432\n",
       "|    |    └─BatchNorm2d: 3-36            128\n",
       "|    └─BasicConv2d: 2-29                 --\n",
       "|    |    └─Conv2d: 3-37                 55,296\n",
       "|    |    └─BatchNorm2d: 3-38            192\n",
       "|    └─BasicConv2d: 2-30                 --\n",
       "|    |    └─Conv2d: 3-39                 82,944\n",
       "|    |    └─BatchNorm2d: 3-40            192\n",
       "|    └─BasicConv2d: 2-31                 --\n",
       "|    |    └─Conv2d: 3-41                 18,432\n",
       "|    |    └─BatchNorm2d: 3-42            128\n",
       "├─InceptionB: 1-11                       --\n",
       "|    └─BasicConv2d: 2-32                 --\n",
       "|    |    └─Conv2d: 3-43                 995,328\n",
       "|    |    └─BatchNorm2d: 3-44            768\n",
       "|    └─BasicConv2d: 2-33                 --\n",
       "|    |    └─Conv2d: 3-45                 18,432\n",
       "|    |    └─BatchNorm2d: 3-46            128\n",
       "|    └─BasicConv2d: 2-34                 --\n",
       "|    |    └─Conv2d: 3-47                 55,296\n",
       "|    |    └─BatchNorm2d: 3-48            192\n",
       "|    └─BasicConv2d: 2-35                 --\n",
       "|    |    └─Conv2d: 3-49                 82,944\n",
       "|    |    └─BatchNorm2d: 3-50            192\n",
       "├─InceptionC: 1-12                       --\n",
       "|    └─BasicConv2d: 2-36                 --\n",
       "|    |    └─Conv2d: 3-51                 147,456\n",
       "|    |    └─BatchNorm2d: 3-52            384\n",
       "|    └─BasicConv2d: 2-37                 --\n",
       "|    |    └─Conv2d: 3-53                 98,304\n",
       "|    |    └─BatchNorm2d: 3-54            256\n",
       "|    └─BasicConv2d: 2-38                 --\n",
       "|    |    └─Conv2d: 3-55                 114,688\n",
       "|    |    └─BatchNorm2d: 3-56            256\n",
       "|    └─BasicConv2d: 2-39                 --\n",
       "|    |    └─Conv2d: 3-57                 172,032\n",
       "|    |    └─BatchNorm2d: 3-58            384\n",
       "|    └─BasicConv2d: 2-40                 --\n",
       "|    |    └─Conv2d: 3-59                 98,304\n",
       "|    |    └─BatchNorm2d: 3-60            256\n",
       "|    └─BasicConv2d: 2-41                 --\n",
       "|    |    └─Conv2d: 3-61                 114,688\n",
       "|    |    └─BatchNorm2d: 3-62            256\n",
       "|    └─BasicConv2d: 2-42                 --\n",
       "|    |    └─Conv2d: 3-63                 114,688\n",
       "|    |    └─BatchNorm2d: 3-64            256\n",
       "|    └─BasicConv2d: 2-43                 --\n",
       "|    |    └─Conv2d: 3-65                 114,688\n",
       "|    |    └─BatchNorm2d: 3-66            256\n",
       "|    └─BasicConv2d: 2-44                 --\n",
       "|    |    └─Conv2d: 3-67                 172,032\n",
       "|    |    └─BatchNorm2d: 3-68            384\n",
       "|    └─BasicConv2d: 2-45                 --\n",
       "|    |    └─Conv2d: 3-69                 147,456\n",
       "|    |    └─BatchNorm2d: 3-70            384\n",
       "├─InceptionC: 1-13                       --\n",
       "|    └─BasicConv2d: 2-46                 --\n",
       "|    |    └─Conv2d: 3-71                 147,456\n",
       "|    |    └─BatchNorm2d: 3-72            384\n",
       "|    └─BasicConv2d: 2-47                 --\n",
       "|    |    └─Conv2d: 3-73                 122,880\n",
       "|    |    └─BatchNorm2d: 3-74            320\n",
       "|    └─BasicConv2d: 2-48                 --\n",
       "|    |    └─Conv2d: 3-75                 179,200\n",
       "|    |    └─BatchNorm2d: 3-76            320\n",
       "|    └─BasicConv2d: 2-49                 --\n",
       "|    |    └─Conv2d: 3-77                 215,040\n",
       "|    |    └─BatchNorm2d: 3-78            384\n",
       "|    └─BasicConv2d: 2-50                 --\n",
       "|    |    └─Conv2d: 3-79                 122,880\n",
       "|    |    └─BatchNorm2d: 3-80            320\n",
       "|    └─BasicConv2d: 2-51                 --\n",
       "|    |    └─Conv2d: 3-81                 179,200\n",
       "|    |    └─BatchNorm2d: 3-82            320\n",
       "|    └─BasicConv2d: 2-52                 --\n",
       "|    |    └─Conv2d: 3-83                 179,200\n",
       "|    |    └─BatchNorm2d: 3-84            320\n",
       "|    └─BasicConv2d: 2-53                 --\n",
       "|    |    └─Conv2d: 3-85                 179,200\n",
       "|    |    └─BatchNorm2d: 3-86            320\n",
       "|    └─BasicConv2d: 2-54                 --\n",
       "|    |    └─Conv2d: 3-87                 215,040\n",
       "|    |    └─BatchNorm2d: 3-88            384\n",
       "|    └─BasicConv2d: 2-55                 --\n",
       "|    |    └─Conv2d: 3-89                 147,456\n",
       "|    |    └─BatchNorm2d: 3-90            384\n",
       "├─InceptionC: 1-14                       --\n",
       "|    └─BasicConv2d: 2-56                 --\n",
       "|    |    └─Conv2d: 3-91                 147,456\n",
       "|    |    └─BatchNorm2d: 3-92            384\n",
       "|    └─BasicConv2d: 2-57                 --\n",
       "|    |    └─Conv2d: 3-93                 122,880\n",
       "|    |    └─BatchNorm2d: 3-94            320\n",
       "|    └─BasicConv2d: 2-58                 --\n",
       "|    |    └─Conv2d: 3-95                 179,200\n",
       "|    |    └─BatchNorm2d: 3-96            320\n",
       "|    └─BasicConv2d: 2-59                 --\n",
       "|    |    └─Conv2d: 3-97                 215,040\n",
       "|    |    └─BatchNorm2d: 3-98            384\n",
       "|    └─BasicConv2d: 2-60                 --\n",
       "|    |    └─Conv2d: 3-99                 122,880\n",
       "|    |    └─BatchNorm2d: 3-100           320\n",
       "|    └─BasicConv2d: 2-61                 --\n",
       "|    |    └─Conv2d: 3-101                179,200\n",
       "|    |    └─BatchNorm2d: 3-102           320\n",
       "|    └─BasicConv2d: 2-62                 --\n",
       "|    |    └─Conv2d: 3-103                179,200\n",
       "|    |    └─BatchNorm2d: 3-104           320\n",
       "|    └─BasicConv2d: 2-63                 --\n",
       "|    |    └─Conv2d: 3-105                179,200\n",
       "|    |    └─BatchNorm2d: 3-106           320\n",
       "|    └─BasicConv2d: 2-64                 --\n",
       "|    |    └─Conv2d: 3-107                215,040\n",
       "|    |    └─BatchNorm2d: 3-108           384\n",
       "|    └─BasicConv2d: 2-65                 --\n",
       "|    |    └─Conv2d: 3-109                147,456\n",
       "|    |    └─BatchNorm2d: 3-110           384\n",
       "├─InceptionC: 1-15                       --\n",
       "|    └─BasicConv2d: 2-66                 --\n",
       "|    |    └─Conv2d: 3-111                147,456\n",
       "|    |    └─BatchNorm2d: 3-112           384\n",
       "|    └─BasicConv2d: 2-67                 --\n",
       "|    |    └─Conv2d: 3-113                147,456\n",
       "|    |    └─BatchNorm2d: 3-114           384\n",
       "|    └─BasicConv2d: 2-68                 --\n",
       "|    |    └─Conv2d: 3-115                258,048\n",
       "|    |    └─BatchNorm2d: 3-116           384\n",
       "|    └─BasicConv2d: 2-69                 --\n",
       "|    |    └─Conv2d: 3-117                258,048\n",
       "|    |    └─BatchNorm2d: 3-118           384\n",
       "|    └─BasicConv2d: 2-70                 --\n",
       "|    |    └─Conv2d: 3-119                147,456\n",
       "|    |    └─BatchNorm2d: 3-120           384\n",
       "|    └─BasicConv2d: 2-71                 --\n",
       "|    |    └─Conv2d: 3-121                258,048\n",
       "|    |    └─BatchNorm2d: 3-122           384\n",
       "|    └─BasicConv2d: 2-72                 --\n",
       "|    |    └─Conv2d: 3-123                258,048\n",
       "|    |    └─BatchNorm2d: 3-124           384\n",
       "|    └─BasicConv2d: 2-73                 --\n",
       "|    |    └─Conv2d: 3-125                258,048\n",
       "|    |    └─BatchNorm2d: 3-126           384\n",
       "|    └─BasicConv2d: 2-74                 --\n",
       "|    |    └─Conv2d: 3-127                258,048\n",
       "|    |    └─BatchNorm2d: 3-128           384\n",
       "|    └─BasicConv2d: 2-75                 --\n",
       "|    |    └─Conv2d: 3-129                147,456\n",
       "|    |    └─BatchNorm2d: 3-130           384\n",
       "├─InceptionAux: 1-16                     --\n",
       "|    └─BasicConv2d: 2-76                 --\n",
       "|    |    └─Conv2d: 3-131                98,304\n",
       "|    |    └─BatchNorm2d: 3-132           256\n",
       "|    └─BasicConv2d: 2-77                 --\n",
       "|    |    └─Conv2d: 3-133                2,457,600\n",
       "|    |    └─BatchNorm2d: 3-134           1,536\n",
       "|    └─Linear: 2-78                      769,000\n",
       "├─InceptionD: 1-17                       --\n",
       "|    └─BasicConv2d: 2-79                 --\n",
       "|    |    └─Conv2d: 3-135                147,456\n",
       "|    |    └─BatchNorm2d: 3-136           384\n",
       "|    └─BasicConv2d: 2-80                 --\n",
       "|    |    └─Conv2d: 3-137                552,960\n",
       "|    |    └─BatchNorm2d: 3-138           640\n",
       "|    └─BasicConv2d: 2-81                 --\n",
       "|    |    └─Conv2d: 3-139                147,456\n",
       "|    |    └─BatchNorm2d: 3-140           384\n",
       "|    └─BasicConv2d: 2-82                 --\n",
       "|    |    └─Conv2d: 3-141                258,048\n",
       "|    |    └─BatchNorm2d: 3-142           384\n",
       "|    └─BasicConv2d: 2-83                 --\n",
       "|    |    └─Conv2d: 3-143                258,048\n",
       "|    |    └─BatchNorm2d: 3-144           384\n",
       "|    └─BasicConv2d: 2-84                 --\n",
       "|    |    └─Conv2d: 3-145                331,776\n",
       "|    |    └─BatchNorm2d: 3-146           384\n",
       "├─InceptionE: 1-18                       --\n",
       "|    └─BasicConv2d: 2-85                 --\n",
       "|    |    └─Conv2d: 3-147                409,600\n",
       "|    |    └─BatchNorm2d: 3-148           640\n",
       "|    └─BasicConv2d: 2-86                 --\n",
       "|    |    └─Conv2d: 3-149                491,520\n",
       "|    |    └─BatchNorm2d: 3-150           768\n",
       "|    └─BasicConv2d: 2-87                 --\n",
       "|    |    └─Conv2d: 3-151                442,368\n",
       "|    |    └─BatchNorm2d: 3-152           768\n",
       "|    └─BasicConv2d: 2-88                 --\n",
       "|    |    └─Conv2d: 3-153                442,368\n",
       "|    |    └─BatchNorm2d: 3-154           768\n",
       "|    └─BasicConv2d: 2-89                 --\n",
       "|    |    └─Conv2d: 3-155                573,440\n",
       "|    |    └─BatchNorm2d: 3-156           896\n",
       "|    └─BasicConv2d: 2-90                 --\n",
       "|    |    └─Conv2d: 3-157                1,548,288\n",
       "|    |    └─BatchNorm2d: 3-158           768\n",
       "|    └─BasicConv2d: 2-91                 --\n",
       "|    |    └─Conv2d: 3-159                442,368\n",
       "|    |    └─BatchNorm2d: 3-160           768\n",
       "|    └─BasicConv2d: 2-92                 --\n",
       "|    |    └─Conv2d: 3-161                442,368\n",
       "|    |    └─BatchNorm2d: 3-162           768\n",
       "|    └─BasicConv2d: 2-93                 --\n",
       "|    |    └─Conv2d: 3-163                245,760\n",
       "|    |    └─BatchNorm2d: 3-164           384\n",
       "├─InceptionE: 1-19                       --\n",
       "|    └─BasicConv2d: 2-94                 --\n",
       "|    |    └─Conv2d: 3-165                655,360\n",
       "|    |    └─BatchNorm2d: 3-166           640\n",
       "|    └─BasicConv2d: 2-95                 --\n",
       "|    |    └─Conv2d: 3-167                786,432\n",
       "|    |    └─BatchNorm2d: 3-168           768\n",
       "|    └─BasicConv2d: 2-96                 --\n",
       "|    |    └─Conv2d: 3-169                442,368\n",
       "|    |    └─BatchNorm2d: 3-170           768\n",
       "|    └─BasicConv2d: 2-97                 --\n",
       "|    |    └─Conv2d: 3-171                442,368\n",
       "|    |    └─BatchNorm2d: 3-172           768\n",
       "|    └─BasicConv2d: 2-98                 --\n",
       "|    |    └─Conv2d: 3-173                917,504\n",
       "|    |    └─BatchNorm2d: 3-174           896\n",
       "|    └─BasicConv2d: 2-99                 --\n",
       "|    |    └─Conv2d: 3-175                1,548,288\n",
       "|    |    └─BatchNorm2d: 3-176           768\n",
       "|    └─BasicConv2d: 2-100                --\n",
       "|    |    └─Conv2d: 3-177                442,368\n",
       "|    |    └─BatchNorm2d: 3-178           768\n",
       "|    └─BasicConv2d: 2-101                --\n",
       "|    |    └─Conv2d: 3-179                442,368\n",
       "|    |    └─BatchNorm2d: 3-180           768\n",
       "|    └─BasicConv2d: 2-102                --\n",
       "|    |    └─Conv2d: 3-181                393,216\n",
       "|    |    └─BatchNorm2d: 3-182           384\n",
       "├─AdaptiveAvgPool2d: 1-20                --\n",
       "├─Dropout: 1-21                          --\n",
       "├─Linear: 1-22                           2,049,000\n",
       "=================================================================\n",
       "Total params: 27,161,264\n",
       "Trainable params: 27,161,264\n",
       "Non-trainable params: 0\n",
       "================================================================="
      ]
     },
     "execution_count": 65,
     "metadata": {},
     "output_type": "execute_result"
    }
   ],
   "source": [
    "summary(model.to(device), input_size=(3, 299, 299))"
   ]
  },
  {
   "cell_type": "code",
   "execution_count": 66,
   "metadata": {},
   "outputs": [],
   "source": [
    "for param in model.parameters():\n",
    "    param.requires_grad = False\n",
    "\n",
    "\n",
    "model.fc = nn.Linear(in_features=2048, out_features=27)"
   ]
  },
  {
   "cell_type": "code",
   "execution_count": 67,
   "metadata": {},
   "outputs": [
    {
     "name": "stdout",
     "output_type": "stream",
     "text": [
      "\t fc.weight\n",
      "\t fc.bias\n"
     ]
    }
   ],
   "source": [
    "params_to_update = []\n",
    "for name, param in model.named_parameters():\n",
    "    if param.requires_grad == True:\n",
    "        params_to_update.append(param)\n",
    "        print(\"\\t\",name)"
   ]
  },
  {
   "cell_type": "code",
   "execution_count": 72,
   "metadata": {},
   "outputs": [],
   "source": [
    "def train_1(net, train_iter, test_iter, trainer, num_epochs, device):\n",
    "    train_loss = []\n",
    "    net.to(device)\n",
    "    loss = nn.CrossEntropyLoss(reduction='sum')\n",
    "    #net.train()\n",
    "    for epoch in range(num_epochs):\n",
    "        train_l_sum, train_acc_sum, n, start = 0.0, 0.0, 0, time.time()\n",
    "        net.train()\n",
    "        for i, (X, y) in enumerate(train_iter):\n",
    "            X, y = X.to(device), y.to(device)\n",
    "            trainer.zero_grad()\n",
    "            y_hat = net(X)\n",
    "            l = loss(y_hat[0], y)\n",
    "            l.backward()\n",
    "            trainer.step()\n",
    "            train_l_sum += l.item()\n",
    "            train_acc_sum += (y_hat[0].argmax(axis=1) == y).sum().item()\n",
    "            n += y.shape[0]\n",
    "\n",
    "            if i % 10 == 0:\n",
    "              print(f\"Step {i}. time since epoch: {time.time() -  start:.3f}. \" \n",
    "                    f\"Train acc: {train_acc_sum / n:.3f}. Train Loss: {train_l_sum / n:.3f}\")\n",
    "        test_acc = evaluate_accuracy(test_iter, net.to(device))\n",
    "        print('-' * 20)\n",
    "        train_loss.append(train_l_sum / n)\n",
    "        print(f'epoch {epoch + 1}, loss {train_l_sum / n:.4f}, train acc {train_acc_sum / n:.3f}'\n",
    "              f', test acc {test_acc:.3f}, time {time.time() - start:.1f} sec')\n",
    "    return train_loss"
   ]
  },
  {
   "cell_type": "code",
   "execution_count": null,
   "metadata": {},
   "outputs": [],
   "source": [
    "lr, num_epochs = 0.001, 10\n",
    "trainer = torch.optim.Adam(params_to_update, lr=lr)\n",
    "network = train_1(model, train_iter, test_iter, trainer, num_epochs, device)"
   ]
  },
  {
   "cell_type": "code",
   "execution_count": 70,
   "metadata": {},
   "outputs": [
    {
     "data": {
      "text/html": [
       "<div>\n",
       "<style scoped>\n",
       "    .dataframe tbody tr th:only-of-type {\n",
       "        vertical-align: middle;\n",
       "    }\n",
       "\n",
       "    .dataframe tbody tr th {\n",
       "        vertical-align: top;\n",
       "    }\n",
       "\n",
       "    .dataframe thead th {\n",
       "        text-align: right;\n",
       "    }\n",
       "</style>\n",
       "<table border=\"1\" class=\"dataframe\">\n",
       "  <thead>\n",
       "    <tr style=\"text-align: right;\">\n",
       "      <th></th>\n",
       "      <th>Loss_inc</th>\n",
       "    </tr>\n",
       "  </thead>\n",
       "  <tbody>\n",
       "    <tr>\n",
       "      <th>0</th>\n",
       "      <td>1.535842</td>\n",
       "    </tr>\n",
       "    <tr>\n",
       "      <th>1</th>\n",
       "      <td>1.112443</td>\n",
       "    </tr>\n",
       "    <tr>\n",
       "      <th>2</th>\n",
       "      <td>1.047778</td>\n",
       "    </tr>\n",
       "    <tr>\n",
       "      <th>3</th>\n",
       "      <td>1.022650</td>\n",
       "    </tr>\n",
       "    <tr>\n",
       "      <th>4</th>\n",
       "      <td>1.014260</td>\n",
       "    </tr>\n",
       "    <tr>\n",
       "      <th>5</th>\n",
       "      <td>1.010785</td>\n",
       "    </tr>\n",
       "    <tr>\n",
       "      <th>6</th>\n",
       "      <td>1.004584</td>\n",
       "    </tr>\n",
       "    <tr>\n",
       "      <th>7</th>\n",
       "      <td>1.001751</td>\n",
       "    </tr>\n",
       "    <tr>\n",
       "      <th>8</th>\n",
       "      <td>1.004021</td>\n",
       "    </tr>\n",
       "    <tr>\n",
       "      <th>9</th>\n",
       "      <td>1.000477</td>\n",
       "    </tr>\n",
       "  </tbody>\n",
       "</table>\n",
       "</div>"
      ],
      "text/plain": [
       "   Loss_inc\n",
       "0  1.535842\n",
       "1  1.112443\n",
       "2  1.047778\n",
       "3  1.022650\n",
       "4  1.014260\n",
       "5  1.010785\n",
       "6  1.004584\n",
       "7  1.001751\n",
       "8  1.004021\n",
       "9  1.000477"
      ]
     },
     "execution_count": 70,
     "metadata": {},
     "output_type": "execute_result"
    }
   ],
   "source": [
    "df_inc = pd.DataFrame({'Loss_inc': network})\n",
    "\n",
    "df_inc"
   ]
  },
  {
   "cell_type": "code",
   "execution_count": 71,
   "metadata": {},
   "outputs": [
    {
     "data": {
      "image/png": "[encoded data removed]",
      "text/plain": [
       "<Figure size 640x480 with 1 Axes>"
      ]
     },
     "metadata": {},
     "output_type": "display_data"
    }
   ],
   "source": [
    "plt.plot(network)\n",
    "plt.title('Training Loss over Epochs Inception_V3')\n",
    "plt.xlabel('Epoch')\n",
    "plt.ylabel('Loss')\n",
    "plt.show()"
   ]
  },
  {
   "cell_type": "markdown",
   "metadata": {},
   "source": [
    "# Модель  DenseNet 161"
   ]
  },
  {
   "cell_type": "code",
   "execution_count": 32,
   "metadata": {},
   "outputs": [
    {
     "name": "stderr",
     "output_type": "stream",
     "text": [
      "Using cache found in C:\\Users\\79169/.cache\\torch\\hub\\pytorch_vision_v0.10.0\n",
      "d:\\anaconda\\Lib\\site-packages\\torchvision\\models\\_utils.py:208: UserWarning: The parameter 'pretrained' is deprecated since 0.13 and may be removed in the future, please use 'weights' instead.\n",
      "  warnings.warn(\n",
      "d:\\anaconda\\Lib\\site-packages\\torchvision\\models\\_utils.py:223: UserWarning: Arguments other than a weight enum or `None` for 'weights' are deprecated since 0.13 and may be removed in the future. The current behavior is equivalent to passing `weights=DenseNet161_Weights.IMAGENET1K_V1`. You can also use `weights=DenseNet161_Weights.DEFAULT` to get the most up-to-date weights.\n",
      "  warnings.warn(msg)\n",
      "Downloading: \"https://download.pytorch.org/models/densenet161-8d451a50.pth\" to C:\\Users\\79169/.cache\\torch\\hub\\checkpoints\\densenet161-8d451a50.pth\n",
      "100%|██████████| 110M/110M [00:03<00:00, 31.2MB/s] \n"
     ]
    }
   ],
   "source": [
    "model = torch.hub.load('pytorch/vision:v0.10.0', 'densenet161', pretrained=True)"
   ]
  },
  {
   "cell_type": "code",
   "execution_count": 42,
   "metadata": {},
   "outputs": [],
   "source": [
    "BATCH_SIZE = 256\n",
    "transoforms = tv.transforms.Compose([\n",
    "    tv.transforms.Grayscale(3),\n",
    "    tv.transforms.Resize((224, 224)),\n",
    "    tv.transforms.ToTensor()\n",
    "])"
   ]
  },
  {
   "cell_type": "code",
   "execution_count": 16,
   "metadata": {},
   "outputs": [],
   "source": [
    "train_data = tv.datasets.EMNIST('.', split='letters', train=True, transform=transoforms, download=True)\n",
    "test_data = tv.datasets.EMNIST('.', split='letters', train=False, transform=transoforms, download=True)"
   ]
  },
  {
   "cell_type": "code",
   "execution_count": 17,
   "metadata": {},
   "outputs": [],
   "source": [
    "train_iter = torch.utils.data.DataLoader(train_data, batch_size=BATCH_SIZE)\n",
    "test_iter = torch.utils.data.DataLoader(test_data, batch_size=BATCH_SIZE)"
   ]
  },
  {
   "cell_type": "code",
   "execution_count": 45,
   "metadata": {},
   "outputs": [
    {
     "name": "stdout",
     "output_type": "stream",
     "text": [
      "=================================================================\n",
      "Layer (type:depth-idx)                   Param #\n",
      "=================================================================\n",
      "├─Sequential: 1-1                        --\n",
      "|    └─Conv2d: 2-1                       (14,112)\n",
      "|    └─BatchNorm2d: 2-2                  (192)\n",
      "|    └─ReLU: 2-3                         --\n",
      "|    └─MaxPool2d: 2-4                    --\n",
      "|    └─_DenseBlock: 2-5                  --\n",
      "|    |    └─_DenseLayer: 3-1             (101,952)\n",
      "|    |    └─_DenseLayer: 3-2             (111,264)\n",
      "|    |    └─_DenseLayer: 3-3             (120,576)\n",
      "|    |    └─_DenseLayer: 3-4             (129,888)\n",
      "|    |    └─_DenseLayer: 3-5             (139,200)\n",
      "|    |    └─_DenseLayer: 3-6             (148,512)\n",
      "|    └─_Transition: 2-6                  --\n",
      "|    |    └─BatchNorm2d: 3-7             (768)\n",
      "|    |    └─ReLU: 3-8                    --\n",
      "|    |    └─Conv2d: 3-9                  (73,728)\n",
      "|    |    └─AvgPool2d: 3-10              --\n",
      "|    └─_DenseBlock: 2-7                  --\n",
      "|    |    └─_DenseLayer: 3-11            (120,576)\n",
      "|    |    └─_DenseLayer: 3-12            (129,888)\n",
      "|    |    └─_DenseLayer: 3-13            (139,200)\n",
      "|    |    └─_DenseLayer: 3-14            (148,512)\n",
      "|    |    └─_DenseLayer: 3-15            (157,824)\n",
      "|    |    └─_DenseLayer: 3-16            (167,136)\n",
      "|    |    └─_DenseLayer: 3-17            (176,448)\n",
      "|    |    └─_DenseLayer: 3-18            (185,760)\n",
      "|    |    └─_DenseLayer: 3-19            (195,072)\n",
      "|    |    └─_DenseLayer: 3-20            (204,384)\n",
      "|    |    └─_DenseLayer: 3-21            (213,696)\n",
      "|    |    └─_DenseLayer: 3-22            (223,008)\n",
      "|    └─_Transition: 2-8                  --\n",
      "|    |    └─BatchNorm2d: 3-23            (1,536)\n",
      "|    |    └─ReLU: 3-24                   --\n",
      "|    |    └─Conv2d: 3-25                 (294,912)\n",
      "|    |    └─AvgPool2d: 3-26              --\n",
      "|    └─_DenseBlock: 2-9                  --\n",
      "|    |    └─_DenseLayer: 3-27            (157,824)\n",
      "|    |    └─_DenseLayer: 3-28            (167,136)\n",
      "|    |    └─_DenseLayer: 3-29            (176,448)\n",
      "|    |    └─_DenseLayer: 3-30            (185,760)\n",
      "|    |    └─_DenseLayer: 3-31            (195,072)\n",
      "|    |    └─_DenseLayer: 3-32            (204,384)\n",
      "|    |    └─_DenseLayer: 3-33            (213,696)\n",
      "|    |    └─_DenseLayer: 3-34            (223,008)\n",
      "|    |    └─_DenseLayer: 3-35            (232,320)\n",
      "|    |    └─_DenseLayer: 3-36            (241,632)\n",
      "|    |    └─_DenseLayer: 3-37            (250,944)\n",
      "|    |    └─_DenseLayer: 3-38            (260,256)\n",
      "|    |    └─_DenseLayer: 3-39            (269,568)\n",
      "|    |    └─_DenseLayer: 3-40            (278,880)\n",
      "|    |    └─_DenseLayer: 3-41            (288,192)\n",
      "|    |    └─_DenseLayer: 3-42            (297,504)\n",
      "|    |    └─_DenseLayer: 3-43            (306,816)\n",
      "|    |    └─_DenseLayer: 3-44            (316,128)\n",
      "|    |    └─_DenseLayer: 3-45            (325,440)\n",
      "|    |    └─_DenseLayer: 3-46            (334,752)\n",
      "|    |    └─_DenseLayer: 3-47            (344,064)\n",
      "|    |    └─_DenseLayer: 3-48            (353,376)\n",
      "|    |    └─_DenseLayer: 3-49            (362,688)\n",
      "|    |    └─_DenseLayer: 3-50            (372,000)\n",
      "|    |    └─_DenseLayer: 3-51            (381,312)\n",
      "|    |    └─_DenseLayer: 3-52            (390,624)\n",
      "|    |    └─_DenseLayer: 3-53            (399,936)\n",
      "|    |    └─_DenseLayer: 3-54            (409,248)\n",
      "|    |    └─_DenseLayer: 3-55            (418,560)\n",
      "|    |    └─_DenseLayer: 3-56            (427,872)\n",
      "|    |    └─_DenseLayer: 3-57            (437,184)\n",
      "|    |    └─_DenseLayer: 3-58            (446,496)\n",
      "|    |    └─_DenseLayer: 3-59            (455,808)\n",
      "|    |    └─_DenseLayer: 3-60            (465,120)\n",
      "|    |    └─_DenseLayer: 3-61            (474,432)\n",
      "|    |    └─_DenseLayer: 3-62            (483,744)\n",
      "|    └─_Transition: 2-10                 --\n",
      "|    |    └─BatchNorm2d: 3-63            (4,224)\n",
      "|    |    └─ReLU: 3-64                   --\n",
      "|    |    └─Conv2d: 3-65                 (2,230,272)\n",
      "|    |    └─AvgPool2d: 3-66              --\n",
      "|    └─_DenseBlock: 2-11                 --\n",
      "|    |    └─_DenseLayer: 3-67            (288,192)\n",
      "|    |    └─_DenseLayer: 3-68            (297,504)\n",
      "|    |    └─_DenseLayer: 3-69            (306,816)\n",
      "|    |    └─_DenseLayer: 3-70            (316,128)\n",
      "|    |    └─_DenseLayer: 3-71            (325,440)\n",
      "|    |    └─_DenseLayer: 3-72            (334,752)\n",
      "|    |    └─_DenseLayer: 3-73            (344,064)\n",
      "|    |    └─_DenseLayer: 3-74            (353,376)\n",
      "|    |    └─_DenseLayer: 3-75            (362,688)\n",
      "|    |    └─_DenseLayer: 3-76            (372,000)\n",
      "|    |    └─_DenseLayer: 3-77            (381,312)\n",
      "|    |    └─_DenseLayer: 3-78            (390,624)\n",
      "|    |    └─_DenseLayer: 3-79            (399,936)\n",
      "|    |    └─_DenseLayer: 3-80            (409,248)\n",
      "|    |    └─_DenseLayer: 3-81            (418,560)\n",
      "|    |    └─_DenseLayer: 3-82            (427,872)\n",
      "|    |    └─_DenseLayer: 3-83            (437,184)\n",
      "|    |    └─_DenseLayer: 3-84            (446,496)\n",
      "|    |    └─_DenseLayer: 3-85            (455,808)\n",
      "|    |    └─_DenseLayer: 3-86            (465,120)\n",
      "|    |    └─_DenseLayer: 3-87            (474,432)\n",
      "|    |    └─_DenseLayer: 3-88            (483,744)\n",
      "|    |    └─_DenseLayer: 3-89            (493,056)\n",
      "|    |    └─_DenseLayer: 3-90            (502,368)\n",
      "|    └─BatchNorm2d: 2-12                 (4,416)\n",
      "├─Linear: 1-2                            55,323\n",
      "=================================================================\n",
      "Total params: 26,527,323\n",
      "Trainable params: 55,323\n",
      "Non-trainable params: 26,472,000\n",
      "=================================================================\n"
     ]
    },
    {
     "data": {
      "text/plain": [
       "=================================================================\n",
       "Layer (type:depth-idx)                   Param #\n",
       "=================================================================\n",
       "├─Sequential: 1-1                        --\n",
       "|    └─Conv2d: 2-1                       (14,112)\n",
       "|    └─BatchNorm2d: 2-2                  (192)\n",
       "|    └─ReLU: 2-3                         --\n",
       "|    └─MaxPool2d: 2-4                    --\n",
       "|    └─_DenseBlock: 2-5                  --\n",
       "|    |    └─_DenseLayer: 3-1             (101,952)\n",
       "|    |    └─_DenseLayer: 3-2             (111,264)\n",
       "|    |    └─_DenseLayer: 3-3             (120,576)\n",
       "|    |    └─_DenseLayer: 3-4             (129,888)\n",
       "|    |    └─_DenseLayer: 3-5             (139,200)\n",
       "|    |    └─_DenseLayer: 3-6             (148,512)\n",
       "|    └─_Transition: 2-6                  --\n",
       "|    |    └─BatchNorm2d: 3-7             (768)\n",
       "|    |    └─ReLU: 3-8                    --\n",
       "|    |    └─Conv2d: 3-9                  (73,728)\n",
       "|    |    └─AvgPool2d: 3-10              --\n",
       "|    └─_DenseBlock: 2-7                  --\n",
       "|    |    └─_DenseLayer: 3-11            (120,576)\n",
       "|    |    └─_DenseLayer: 3-12            (129,888)\n",
       "|    |    └─_DenseLayer: 3-13            (139,200)\n",
       "|    |    └─_DenseLayer: 3-14            (148,512)\n",
       "|    |    └─_DenseLayer: 3-15            (157,824)\n",
       "|    |    └─_DenseLayer: 3-16            (167,136)\n",
       "|    |    └─_DenseLayer: 3-17            (176,448)\n",
       "|    |    └─_DenseLayer: 3-18            (185,760)\n",
       "|    |    └─_DenseLayer: 3-19            (195,072)\n",
       "|    |    └─_DenseLayer: 3-20            (204,384)\n",
       "|    |    └─_DenseLayer: 3-21            (213,696)\n",
       "|    |    └─_DenseLayer: 3-22            (223,008)\n",
       "|    └─_Transition: 2-8                  --\n",
       "|    |    └─BatchNorm2d: 3-23            (1,536)\n",
       "|    |    └─ReLU: 3-24                   --\n",
       "|    |    └─Conv2d: 3-25                 (294,912)\n",
       "|    |    └─AvgPool2d: 3-26              --\n",
       "|    └─_DenseBlock: 2-9                  --\n",
       "|    |    └─_DenseLayer: 3-27            (157,824)\n",
       "|    |    └─_DenseLayer: 3-28            (167,136)\n",
       "|    |    └─_DenseLayer: 3-29            (176,448)\n",
       "|    |    └─_DenseLayer: 3-30            (185,760)\n",
       "|    |    └─_DenseLayer: 3-31            (195,072)\n",
       "|    |    └─_DenseLayer: 3-32            (204,384)\n",
       "|    |    └─_DenseLayer: 3-33            (213,696)\n",
       "|    |    └─_DenseLayer: 3-34            (223,008)\n",
       "|    |    └─_DenseLayer: 3-35            (232,320)\n",
       "|    |    └─_DenseLayer: 3-36            (241,632)\n",
       "|    |    └─_DenseLayer: 3-37            (250,944)\n",
       "|    |    └─_DenseLayer: 3-38            (260,256)\n",
       "|    |    └─_DenseLayer: 3-39            (269,568)\n",
       "|    |    └─_DenseLayer: 3-40            (278,880)\n",
       "|    |    └─_DenseLayer: 3-41            (288,192)\n",
       "|    |    └─_DenseLayer: 3-42            (297,504)\n",
       "|    |    └─_DenseLayer: 3-43            (306,816)\n",
       "|    |    └─_DenseLayer: 3-44            (316,128)\n",
       "|    |    └─_DenseLayer: 3-45            (325,440)\n",
       "|    |    └─_DenseLayer: 3-46            (334,752)\n",
       "|    |    └─_DenseLayer: 3-47            (344,064)\n",
       "|    |    └─_DenseLayer: 3-48            (353,376)\n",
       "|    |    └─_DenseLayer: 3-49            (362,688)\n",
       "|    |    └─_DenseLayer: 3-50            (372,000)\n",
       "|    |    └─_DenseLayer: 3-51            (381,312)\n",
       "|    |    └─_DenseLayer: 3-52            (390,624)\n",
       "|    |    └─_DenseLayer: 3-53            (399,936)\n",
       "|    |    └─_DenseLayer: 3-54            (409,248)\n",
       "|    |    └─_DenseLayer: 3-55            (418,560)\n",
       "|    |    └─_DenseLayer: 3-56            (427,872)\n",
       "|    |    └─_DenseLayer: 3-57            (437,184)\n",
       "|    |    └─_DenseLayer: 3-58            (446,496)\n",
       "|    |    └─_DenseLayer: 3-59            (455,808)\n",
       "|    |    └─_DenseLayer: 3-60            (465,120)\n",
       "|    |    └─_DenseLayer: 3-61            (474,432)\n",
       "|    |    └─_DenseLayer: 3-62            (483,744)\n",
       "|    └─_Transition: 2-10                 --\n",
       "|    |    └─BatchNorm2d: 3-63            (4,224)\n",
       "|    |    └─ReLU: 3-64                   --\n",
       "|    |    └─Conv2d: 3-65                 (2,230,272)\n",
       "|    |    └─AvgPool2d: 3-66              --\n",
       "|    └─_DenseBlock: 2-11                 --\n",
       "|    |    └─_DenseLayer: 3-67            (288,192)\n",
       "|    |    └─_DenseLayer: 3-68            (297,504)\n",
       "|    |    └─_DenseLayer: 3-69            (306,816)\n",
       "|    |    └─_DenseLayer: 3-70            (316,128)\n",
       "|    |    └─_DenseLayer: 3-71            (325,440)\n",
       "|    |    └─_DenseLayer: 3-72            (334,752)\n",
       "|    |    └─_DenseLayer: 3-73            (344,064)\n",
       "|    |    └─_DenseLayer: 3-74            (353,376)\n",
       "|    |    └─_DenseLayer: 3-75            (362,688)\n",
       "|    |    └─_DenseLayer: 3-76            (372,000)\n",
       "|    |    └─_DenseLayer: 3-77            (381,312)\n",
       "|    |    └─_DenseLayer: 3-78            (390,624)\n",
       "|    |    └─_DenseLayer: 3-79            (399,936)\n",
       "|    |    └─_DenseLayer: 3-80            (409,248)\n",
       "|    |    └─_DenseLayer: 3-81            (418,560)\n",
       "|    |    └─_DenseLayer: 3-82            (427,872)\n",
       "|    |    └─_DenseLayer: 3-83            (437,184)\n",
       "|    |    └─_DenseLayer: 3-84            (446,496)\n",
       "|    |    └─_DenseLayer: 3-85            (455,808)\n",
       "|    |    └─_DenseLayer: 3-86            (465,120)\n",
       "|    |    └─_DenseLayer: 3-87            (474,432)\n",
       "|    |    └─_DenseLayer: 3-88            (483,744)\n",
       "|    |    └─_DenseLayer: 3-89            (493,056)\n",
       "|    |    └─_DenseLayer: 3-90            (502,368)\n",
       "|    └─BatchNorm2d: 2-12                 (4,416)\n",
       "├─Linear: 1-2                            55,323\n",
       "=================================================================\n",
       "Total params: 26,527,323\n",
       "Trainable params: 55,323\n",
       "Non-trainable params: 26,472,000\n",
       "================================================================="
      ]
     },
     "execution_count": 45,
     "metadata": {},
     "output_type": "execute_result"
    }
   ],
   "source": [
    "summary(model.to(device), input_size=(3, 224, 224))"
   ]
  },
  {
   "cell_type": "code",
   "execution_count": 54,
   "metadata": {},
   "outputs": [
    {
     "name": "stdout",
     "output_type": "stream",
     "text": [
      "\t classifier.weight\n",
      "\t classifier.bias\n"
     ]
    }
   ],
   "source": [
    "for param in model.parameters():\n",
    "    param.requires_grad = False\n",
    "\n",
    "model.classifier = nn.Linear(in_features=2208, out_features=27)\n",
    "params_to_update = []\n",
    "for name, param in model.named_parameters():\n",
    "    if param.requires_grad == True:\n",
    "        params_to_update.append(param)\n",
    "        print(\"\\t\",name)"
   ]
  },
  {
   "cell_type": "code",
   "execution_count": null,
   "metadata": {},
   "outputs": [],
   "source": [
    "lr, num_epochs = 0.01, 10\n",
    "trainer = torch.optim.Adam(params_to_update, lr=lr)\n",
    "network = train(model, train_iter, test_iter, trainer, num_epochs)"
   ]
  },
  {
   "cell_type": "code",
   "execution_count": 56,
   "metadata": {},
   "outputs": [
    {
     "data": {
      "text/html": [
       "<div>\n",
       "<style scoped>\n",
       "    .dataframe tbody tr th:only-of-type {\n",
       "        vertical-align: middle;\n",
       "    }\n",
       "\n",
       "    .dataframe tbody tr th {\n",
       "        vertical-align: top;\n",
       "    }\n",
       "\n",
       "    .dataframe thead th {\n",
       "        text-align: right;\n",
       "    }\n",
       "</style>\n",
       "<table border=\"1\" class=\"dataframe\">\n",
       "  <thead>\n",
       "    <tr style=\"text-align: right;\">\n",
       "      <th></th>\n",
       "      <th>Loss_dense</th>\n",
       "    </tr>\n",
       "  </thead>\n",
       "  <tbody>\n",
       "    <tr>\n",
       "      <th>0</th>\n",
       "      <td>0.793316</td>\n",
       "    </tr>\n",
       "    <tr>\n",
       "      <th>1</th>\n",
       "      <td>0.524925</td>\n",
       "    </tr>\n",
       "    <tr>\n",
       "      <th>2</th>\n",
       "      <td>0.503698</td>\n",
       "    </tr>\n",
       "    <tr>\n",
       "      <th>3</th>\n",
       "      <td>0.501309</td>\n",
       "    </tr>\n",
       "    <tr>\n",
       "      <th>4</th>\n",
       "      <td>0.506320</td>\n",
       "    </tr>\n",
       "    <tr>\n",
       "      <th>5</th>\n",
       "      <td>0.517517</td>\n",
       "    </tr>\n",
       "    <tr>\n",
       "      <th>6</th>\n",
       "      <td>0.517217</td>\n",
       "    </tr>\n",
       "    <tr>\n",
       "      <th>7</th>\n",
       "      <td>0.514475</td>\n",
       "    </tr>\n",
       "    <tr>\n",
       "      <th>8</th>\n",
       "      <td>0.509220</td>\n",
       "    </tr>\n",
       "    <tr>\n",
       "      <th>9</th>\n",
       "      <td>0.507025</td>\n",
       "    </tr>\n",
       "  </tbody>\n",
       "</table>\n",
       "</div>"
      ],
      "text/plain": [
       "   Loss_dense\n",
       "0    0.793316\n",
       "1    0.524925\n",
       "2    0.503698\n",
       "3    0.501309\n",
       "4    0.506320\n",
       "5    0.517517\n",
       "6    0.517217\n",
       "7    0.514475\n",
       "8    0.509220\n",
       "9    0.507025"
      ]
     },
     "execution_count": 56,
     "metadata": {},
     "output_type": "execute_result"
    }
   ],
   "source": [
    "df_dense = pd.DataFrame({'Loss_dense': network})\n",
    "\n",
    "df_dense"
   ]
  },
  {
   "cell_type": "code",
   "execution_count": 57,
   "metadata": {},
   "outputs": [
    {
     "data": {
      "image/png": "[encoded data removed]",
      "text/plain": [
       "<Figure size 640x480 with 1 Axes>"
      ]
     },
     "metadata": {},
     "output_type": "display_data"
    }
   ],
   "source": [
    "plt.plot(network)\n",
    "plt.title('Training Loss over Epochs Dense161')\n",
    "plt.xlabel('Epoch')\n",
    "plt.ylabel('Loss')\n",
    "plt.show()"
   ]
  },
  {
   "cell_type": "code",
   "execution_count": 58,
   "metadata": {},
   "outputs": [
    {
     "data": {
      "text/html": [
       "<div>\n",
       "<style scoped>\n",
       "    .dataframe tbody tr th:only-of-type {\n",
       "        vertical-align: middle;\n",
       "    }\n",
       "\n",
       "    .dataframe tbody tr th {\n",
       "        vertical-align: top;\n",
       "    }\n",
       "\n",
       "    .dataframe thead th {\n",
       "        text-align: right;\n",
       "    }\n",
       "</style>\n",
       "<table border=\"1\" class=\"dataframe\">\n",
       "  <thead>\n",
       "    <tr style=\"text-align: right;\">\n",
       "      <th></th>\n",
       "      <th>Loss_res</th>\n",
       "    </tr>\n",
       "  </thead>\n",
       "  <tbody>\n",
       "    <tr>\n",
       "      <th>0</th>\n",
       "      <td>0.712833</td>\n",
       "    </tr>\n",
       "    <tr>\n",
       "      <th>1</th>\n",
       "      <td>0.539667</td>\n",
       "    </tr>\n",
       "    <tr>\n",
       "      <th>2</th>\n",
       "      <td>0.503659</td>\n",
       "    </tr>\n",
       "    <tr>\n",
       "      <th>3</th>\n",
       "      <td>0.485992</td>\n",
       "    </tr>\n",
       "    <tr>\n",
       "      <th>4</th>\n",
       "      <td>0.475368</td>\n",
       "    </tr>\n",
       "    <tr>\n",
       "      <th>5</th>\n",
       "      <td>0.467530</td>\n",
       "    </tr>\n",
       "    <tr>\n",
       "      <th>6</th>\n",
       "      <td>0.460795</td>\n",
       "    </tr>\n",
       "    <tr>\n",
       "      <th>7</th>\n",
       "      <td>0.455449</td>\n",
       "    </tr>\n",
       "    <tr>\n",
       "      <th>8</th>\n",
       "      <td>0.451231</td>\n",
       "    </tr>\n",
       "    <tr>\n",
       "      <th>9</th>\n",
       "      <td>0.447904</td>\n",
       "    </tr>\n",
       "  </tbody>\n",
       "</table>\n",
       "</div>"
      ],
      "text/plain": [
       "   Loss_res\n",
       "0  0.712833\n",
       "1  0.539667\n",
       "2  0.503659\n",
       "3  0.485992\n",
       "4  0.475368\n",
       "5  0.467530\n",
       "6  0.460795\n",
       "7  0.455449\n",
       "8  0.451231\n",
       "9  0.447904"
      ]
     },
     "execution_count": 58,
     "metadata": {},
     "output_type": "execute_result"
    }
   ],
   "source": [
    "df_res = pd.read_csv(r'C:\\Users\\79169\\Desktop\\домашка\\DLL\\resnet.csv')\n",
    "df_res"
   ]
  },
  {
   "cell_type": "code",
   "execution_count": 72,
   "metadata": {},
   "outputs": [
    {
     "data": {
      "text/html": [
       "<div>\n",
       "<style scoped>\n",
       "    .dataframe tbody tr th:only-of-type {\n",
       "        vertical-align: middle;\n",
       "    }\n",
       "\n",
       "    .dataframe tbody tr th {\n",
       "        vertical-align: top;\n",
       "    }\n",
       "\n",
       "    .dataframe thead th {\n",
       "        text-align: right;\n",
       "    }\n",
       "</style>\n",
       "<table border=\"1\" class=\"dataframe\">\n",
       "  <thead>\n",
       "    <tr style=\"text-align: right;\">\n",
       "      <th></th>\n",
       "      <th>Loss_res</th>\n",
       "      <th>Loss_inc</th>\n",
       "      <th>Loss_vgg</th>\n",
       "      <th>Loss_dense</th>\n",
       "    </tr>\n",
       "  </thead>\n",
       "  <tbody>\n",
       "    <tr>\n",
       "      <th>0</th>\n",
       "      <td>0.712833</td>\n",
       "      <td>1.535842</td>\n",
       "      <td>1.470920</td>\n",
       "      <td>0.793316</td>\n",
       "    </tr>\n",
       "    <tr>\n",
       "      <th>1</th>\n",
       "      <td>0.539667</td>\n",
       "      <td>1.112443</td>\n",
       "      <td>0.494945</td>\n",
       "      <td>0.524925</td>\n",
       "    </tr>\n",
       "    <tr>\n",
       "      <th>2</th>\n",
       "      <td>0.503659</td>\n",
       "      <td>1.047778</td>\n",
       "      <td>0.400627</td>\n",
       "      <td>0.503698</td>\n",
       "    </tr>\n",
       "    <tr>\n",
       "      <th>3</th>\n",
       "      <td>0.485992</td>\n",
       "      <td>1.022650</td>\n",
       "      <td>0.360682</td>\n",
       "      <td>0.501309</td>\n",
       "    </tr>\n",
       "    <tr>\n",
       "      <th>4</th>\n",
       "      <td>0.475368</td>\n",
       "      <td>1.014260</td>\n",
       "      <td>0.337608</td>\n",
       "      <td>0.506320</td>\n",
       "    </tr>\n",
       "    <tr>\n",
       "      <th>5</th>\n",
       "      <td>0.467530</td>\n",
       "      <td>1.010785</td>\n",
       "      <td>0.327039</td>\n",
       "      <td>0.517517</td>\n",
       "    </tr>\n",
       "    <tr>\n",
       "      <th>6</th>\n",
       "      <td>0.460795</td>\n",
       "      <td>1.004584</td>\n",
       "      <td>0.317844</td>\n",
       "      <td>0.517217</td>\n",
       "    </tr>\n",
       "    <tr>\n",
       "      <th>7</th>\n",
       "      <td>0.455449</td>\n",
       "      <td>1.001751</td>\n",
       "      <td>0.313864</td>\n",
       "      <td>0.514475</td>\n",
       "    </tr>\n",
       "    <tr>\n",
       "      <th>8</th>\n",
       "      <td>0.451231</td>\n",
       "      <td>1.004021</td>\n",
       "      <td>0.318096</td>\n",
       "      <td>0.509220</td>\n",
       "    </tr>\n",
       "    <tr>\n",
       "      <th>9</th>\n",
       "      <td>0.447904</td>\n",
       "      <td>1.000477</td>\n",
       "      <td>0.338359</td>\n",
       "      <td>0.507025</td>\n",
       "    </tr>\n",
       "  </tbody>\n",
       "</table>\n",
       "</div>"
      ],
      "text/plain": [
       "   Loss_res  Loss_inc  Loss_vgg  Loss_dense\n",
       "0  0.712833  1.535842  1.470920    0.793316\n",
       "1  0.539667  1.112443  0.494945    0.524925\n",
       "2  0.503659  1.047778  0.400627    0.503698\n",
       "3  0.485992  1.022650  0.360682    0.501309\n",
       "4  0.475368  1.014260  0.337608    0.506320\n",
       "5  0.467530  1.010785  0.327039    0.517517\n",
       "6  0.460795  1.004584  0.317844    0.517217\n",
       "7  0.455449  1.001751  0.313864    0.514475\n",
       "8  0.451231  1.004021  0.318096    0.509220\n",
       "9  0.447904  1.000477  0.338359    0.507025"
      ]
     },
     "execution_count": 72,
     "metadata": {},
     "output_type": "execute_result"
    }
   ],
   "source": [
    "df_final = pd.concat([df_res, df_inc, df_vgg, df_dense], axis=1)\n",
    "df_final"
   ]
  },
  {
   "cell_type": "code",
   "execution_count": 77,
   "metadata": {},
   "outputs": [
    {
     "data": {
      "image/png": "[encoded data removed]",
      "text/plain": [
       "<Figure size 640x480 with 1 Axes>"
      ]
     },
     "metadata": {},
     "output_type": "display_data"
    }
   ],
   "source": [
    "plt.plot(df_final['Loss_res'], '-g', label='ResNet18')\n",
    "plt.plot(df_final['Loss_inc'], '-r', label='Inception_V3')\n",
    "plt.plot(df_final['Loss_vgg'], '-c', label='VGG16')\n",
    "plt.plot(df_final['Loss_dense'], '-k', label='DenseNet161')\n",
    "plt.legend()\n",
    "plt.title('Сравнение моделей')\n",
    "plt.xlabel('Epoch')\n",
    "plt.ylabel('Loss')\n",
    "plt.show()"
   ]
  },
  {
   "cell_type": "markdown",
   "metadata": {},
   "source": [
    "# Датасет hymenoptera_data"
   ]
  },
  {
   "cell_type": "markdown",
   "metadata": {},
   "source": [
    "Модель ResNet18"
   ]
  },
  {
   "cell_type": "code",
   "execution_count": 231,
   "metadata": {},
   "outputs": [],
   "source": [
    "BATCH_SIZE = 8\n",
    "transoforms = tv.transforms.Compose([\n",
    "    tv.transforms.Resize((224, 224)),\n",
    "    tv.transforms.ToTensor()\n",
    "])"
   ]
  },
  {
   "cell_type": "code",
   "execution_count": 232,
   "metadata": {},
   "outputs": [],
   "source": [
    "data_dir = r'C:\\Users\\79169\\Desktop\\домашка\\DLL\\hymenoptera_data'"
   ]
  },
  {
   "cell_type": "code",
   "execution_count": 233,
   "metadata": {},
   "outputs": [],
   "source": [
    "train_data = tv.datasets.ImageFolder(data_dir + '/train', transoforms)\n",
    "test_data = tv.datasets.ImageFolder(data_dir + '/val', transoforms)\n",
    "\n",
    "train_iter = torch.utils.data.DataLoader(train_data, batch_size=BATCH_SIZE, shuffle=True)\n",
    "test_iter = torch.utils.data.DataLoader(test_data, batch_size=BATCH_SIZE, shuffle=True)"
   ]
  },
  {
   "cell_type": "code",
   "execution_count": 234,
   "metadata": {},
   "outputs": [
    {
     "name": "stderr",
     "output_type": "stream",
     "text": [
      "d:\\anaconda\\Lib\\site-packages\\torchvision\\models\\_utils.py:223: UserWarning: Arguments other than a weight enum or `None` for 'weights' are deprecated since 0.13 and may be removed in the future. The current behavior is equivalent to passing `weights=ResNet18_Weights.IMAGENET1K_V1`. You can also use `weights=ResNet18_Weights.DEFAULT` to get the most up-to-date weights.\n",
      "  warnings.warn(msg)\n"
     ]
    }
   ],
   "source": [
    "model = tv.models.resnet18(weights=True)"
   ]
  },
  {
   "cell_type": "code",
   "execution_count": 235,
   "metadata": {},
   "outputs": [],
   "source": [
    "for param in model.parameters():\n",
    "    param.requires_grad = False\n",
    "\n",
    "model.fc = nn.Linear(in_features=512, out_features=2)"
   ]
  },
  {
   "cell_type": "code",
   "execution_count": 236,
   "metadata": {},
   "outputs": [
    {
     "name": "stdout",
     "output_type": "stream",
     "text": [
      "\t fc.weight\n",
      "\t fc.bias\n"
     ]
    }
   ],
   "source": [
    "params_to_update = []\n",
    "for name, param in model.named_parameters():\n",
    "    if param.requires_grad == True:\n",
    "        params_to_update.append(param)\n",
    "        print(\"\\t\",name)"
   ]
  },
  {
   "cell_type": "code",
   "execution_count": null,
   "metadata": {},
   "outputs": [],
   "source": [
    "lr, num_epochs = 0.001, 10\n",
    "trainer = torch.optim.Adam(params_to_update, lr=lr)\n",
    "network = train(model, train_iter, test_iter, trainer, num_epochs, device)"
   ]
  },
  {
   "cell_type": "code",
   "execution_count": 238,
   "metadata": {},
   "outputs": [
    {
     "data": {
      "text/html": [
       "<div>\n",
       "<style scoped>\n",
       "    .dataframe tbody tr th:only-of-type {\n",
       "        vertical-align: middle;\n",
       "    }\n",
       "\n",
       "    .dataframe tbody tr th {\n",
       "        vertical-align: top;\n",
       "    }\n",
       "\n",
       "    .dataframe thead th {\n",
       "        text-align: right;\n",
       "    }\n",
       "</style>\n",
       "<table border=\"1\" class=\"dataframe\">\n",
       "  <thead>\n",
       "    <tr style=\"text-align: right;\">\n",
       "      <th></th>\n",
       "      <th>Loss_res</th>\n",
       "    </tr>\n",
       "  </thead>\n",
       "  <tbody>\n",
       "    <tr>\n",
       "      <th>0</th>\n",
       "      <td>0.609551</td>\n",
       "    </tr>\n",
       "    <tr>\n",
       "      <th>1</th>\n",
       "      <td>0.302142</td>\n",
       "    </tr>\n",
       "    <tr>\n",
       "      <th>2</th>\n",
       "      <td>0.198976</td>\n",
       "    </tr>\n",
       "    <tr>\n",
       "      <th>3</th>\n",
       "      <td>0.152918</td>\n",
       "    </tr>\n",
       "    <tr>\n",
       "      <th>4</th>\n",
       "      <td>0.122258</td>\n",
       "    </tr>\n",
       "    <tr>\n",
       "      <th>5</th>\n",
       "      <td>0.102634</td>\n",
       "    </tr>\n",
       "    <tr>\n",
       "      <th>6</th>\n",
       "      <td>0.099254</td>\n",
       "    </tr>\n",
       "    <tr>\n",
       "      <th>7</th>\n",
       "      <td>0.090897</td>\n",
       "    </tr>\n",
       "    <tr>\n",
       "      <th>8</th>\n",
       "      <td>0.067062</td>\n",
       "    </tr>\n",
       "    <tr>\n",
       "      <th>9</th>\n",
       "      <td>0.058984</td>\n",
       "    </tr>\n",
       "  </tbody>\n",
       "</table>\n",
       "</div>"
      ],
      "text/plain": [
       "   Loss_res\n",
       "0  0.609551\n",
       "1  0.302142\n",
       "2  0.198976\n",
       "3  0.152918\n",
       "4  0.122258\n",
       "5  0.102634\n",
       "6  0.099254\n",
       "7  0.090897\n",
       "8  0.067062\n",
       "9  0.058984"
      ]
     },
     "execution_count": 238,
     "metadata": {},
     "output_type": "execute_result"
    }
   ],
   "source": [
    "df_res = pd.DataFrame({'Loss_res': network})\n",
    "\n",
    "df_res"
   ]
  },
  {
   "cell_type": "code",
   "execution_count": 239,
   "metadata": {},
   "outputs": [
    {
     "data": {
      "image/png": "[encoded data removed]",
      "text/plain": [
       "<Figure size 640x480 with 1 Axes>"
      ]
     },
     "metadata": {},
     "output_type": "display_data"
    }
   ],
   "source": [
    "plt.plot(network)\n",
    "plt.title('Training Loss over Epochs ResNet18')\n",
    "plt.xlabel('Epoch')\n",
    "plt.ylabel('Loss')\n",
    "plt.show()"
   ]
  },
  {
   "cell_type": "markdown",
   "metadata": {},
   "source": [
    "Модель VGG16"
   ]
  },
  {
   "cell_type": "code",
   "execution_count": 240,
   "metadata": {},
   "outputs": [
    {
     "name": "stderr",
     "output_type": "stream",
     "text": [
      "d:\\anaconda\\Lib\\site-packages\\torchvision\\models\\_utils.py:208: UserWarning: The parameter 'pretrained' is deprecated since 0.13 and may be removed in the future, please use 'weights' instead.\n",
      "  warnings.warn(\n",
      "d:\\anaconda\\Lib\\site-packages\\torchvision\\models\\_utils.py:223: UserWarning: Arguments other than a weight enum or `None` for 'weights' are deprecated since 0.13 and may be removed in the future. The current behavior is equivalent to passing `weights=VGG16_Weights.IMAGENET1K_V1`. You can also use `weights=VGG16_Weights.DEFAULT` to get the most up-to-date weights.\n",
      "  warnings.warn(msg)\n"
     ]
    }
   ],
   "source": [
    "model = tv.models.vgg16(pretrained=True)"
   ]
  },
  {
   "cell_type": "code",
   "execution_count": 241,
   "metadata": {},
   "outputs": [],
   "source": [
    "for param in model.parameters():\n",
    "    param.requires_grad = False\n",
    "\n",
    "\n",
    "model.classifier[-1] = nn.Linear(in_features=4096, out_features=2)"
   ]
  },
  {
   "cell_type": "code",
   "execution_count": 242,
   "metadata": {},
   "outputs": [
    {
     "name": "stdout",
     "output_type": "stream",
     "text": [
      "\t classifier.6.weight\n",
      "\t classifier.6.bias\n"
     ]
    }
   ],
   "source": [
    "params_to_update = []\n",
    "for name, param in model.named_parameters():\n",
    "    if param.requires_grad == True:\n",
    "        params_to_update.append(param)\n",
    "        print(\"\\t\",name)"
   ]
  },
  {
   "cell_type": "code",
   "execution_count": null,
   "metadata": {},
   "outputs": [],
   "source": [
    "lr, num_epochs = 0.001, 10\n",
    "trainer = torch.optim.Adam(params_to_update, lr=lr)\n",
    "network = train(model, train_iter, test_iter, trainer, num_epochs, device)"
   ]
  },
  {
   "cell_type": "code",
   "execution_count": 244,
   "metadata": {},
   "outputs": [
    {
     "data": {
      "text/html": [
       "<div>\n",
       "<style scoped>\n",
       "    .dataframe tbody tr th:only-of-type {\n",
       "        vertical-align: middle;\n",
       "    }\n",
       "\n",
       "    .dataframe tbody tr th {\n",
       "        vertical-align: top;\n",
       "    }\n",
       "\n",
       "    .dataframe thead th {\n",
       "        text-align: right;\n",
       "    }\n",
       "</style>\n",
       "<table border=\"1\" class=\"dataframe\">\n",
       "  <thead>\n",
       "    <tr style=\"text-align: right;\">\n",
       "      <th></th>\n",
       "      <th>Loss_vgg</th>\n",
       "    </tr>\n",
       "  </thead>\n",
       "  <tbody>\n",
       "    <tr>\n",
       "      <th>0</th>\n",
       "      <td>0.454884</td>\n",
       "    </tr>\n",
       "    <tr>\n",
       "      <th>1</th>\n",
       "      <td>0.169315</td>\n",
       "    </tr>\n",
       "    <tr>\n",
       "      <th>2</th>\n",
       "      <td>0.106914</td>\n",
       "    </tr>\n",
       "    <tr>\n",
       "      <th>3</th>\n",
       "      <td>0.071213</td>\n",
       "    </tr>\n",
       "    <tr>\n",
       "      <th>4</th>\n",
       "      <td>0.052285</td>\n",
       "    </tr>\n",
       "    <tr>\n",
       "      <th>5</th>\n",
       "      <td>0.046276</td>\n",
       "    </tr>\n",
       "    <tr>\n",
       "      <th>6</th>\n",
       "      <td>0.033366</td>\n",
       "    </tr>\n",
       "    <tr>\n",
       "      <th>7</th>\n",
       "      <td>0.030355</td>\n",
       "    </tr>\n",
       "    <tr>\n",
       "      <th>8</th>\n",
       "      <td>0.022967</td>\n",
       "    </tr>\n",
       "    <tr>\n",
       "      <th>9</th>\n",
       "      <td>0.019076</td>\n",
       "    </tr>\n",
       "  </tbody>\n",
       "</table>\n",
       "</div>"
      ],
      "text/plain": [
       "   Loss_vgg\n",
       "0  0.454884\n",
       "1  0.169315\n",
       "2  0.106914\n",
       "3  0.071213\n",
       "4  0.052285\n",
       "5  0.046276\n",
       "6  0.033366\n",
       "7  0.030355\n",
       "8  0.022967\n",
       "9  0.019076"
      ]
     },
     "execution_count": 244,
     "metadata": {},
     "output_type": "execute_result"
    }
   ],
   "source": [
    "df_vgg = pd.DataFrame({'Loss_vgg': network})\n",
    "\n",
    "df_vgg"
   ]
  },
  {
   "cell_type": "code",
   "execution_count": 245,
   "metadata": {},
   "outputs": [
    {
     "data": {
      "image/png": "[encoded data removed]",
      "text/plain": [
       "<Figure size 640x480 with 1 Axes>"
      ]
     },
     "metadata": {},
     "output_type": "display_data"
    }
   ],
   "source": [
    "plt.plot(network)\n",
    "plt.title('Training Loss over Epochs VGG16')\n",
    "plt.xlabel('Epoch')\n",
    "plt.ylabel('Loss')\n",
    "plt.show()"
   ]
  },
  {
   "cell_type": "markdown",
   "metadata": {},
   "source": [
    "Модель Inception_V3"
   ]
  },
  {
   "cell_type": "code",
   "execution_count": 205,
   "metadata": {},
   "outputs": [],
   "source": [
    "BATCH_SIZE = 8\n",
    "transforms = tv.transforms.Compose([\n",
    "    tv.transforms.Resize((299, 299)),\n",
    "    tv.transforms.ToTensor()\n",
    "])"
   ]
  },
  {
   "cell_type": "code",
   "execution_count": 206,
   "metadata": {},
   "outputs": [],
   "source": [
    "data_dir = r'C:\\Users\\79169\\Desktop\\домашка\\DLL\\hymenoptera_data'"
   ]
  },
  {
   "cell_type": "code",
   "execution_count": 217,
   "metadata": {},
   "outputs": [],
   "source": [
    "train_data = tv.datasets.ImageFolder(data_dir + '/train', transform=transforms)\n",
    "test_data = tv.datasets.ImageFolder(data_dir + '/val', transform=transforms)\n",
    "\n",
    "train_iter = torch.utils.data.DataLoader(train_data, batch_size=BATCH_SIZE, shuffle=True)\n",
    "test_iter = torch.utils.data.DataLoader(test_data, batch_size=BATCH_SIZE, shuffle=True)"
   ]
  },
  {
   "cell_type": "code",
   "execution_count": 218,
   "metadata": {},
   "outputs": [
    {
     "data": {
      "text/plain": [
       "torch.Size([3, 299, 299])"
      ]
     },
     "execution_count": 218,
     "metadata": {},
     "output_type": "execute_result"
    }
   ],
   "source": [
    "train_data[0][0].shape"
   ]
  },
  {
   "cell_type": "code",
   "execution_count": 220,
   "metadata": {},
   "outputs": [],
   "source": [
    "model = tv.models.inception_v3(pretrained=True)"
   ]
  },
  {
   "cell_type": "code",
   "execution_count": 221,
   "metadata": {},
   "outputs": [],
   "source": [
    "for param in model.parameters():\n",
    "    param.requires_grad = False\n",
    "\n",
    "\n",
    "model.fc = nn.Linear(in_features=2048, out_features=2)"
   ]
  },
  {
   "cell_type": "code",
   "execution_count": 223,
   "metadata": {},
   "outputs": [
    {
     "name": "stdout",
     "output_type": "stream",
     "text": [
      "\t fc.weight\n",
      "\t fc.bias\n"
     ]
    }
   ],
   "source": [
    "params_to_update = []\n",
    "for name, param in model.named_parameters():\n",
    "    if param.requires_grad == True:\n",
    "        params_to_update.append(param)\n",
    "        print(\"\\t\",name)"
   ]
  },
  {
   "cell_type": "code",
   "execution_count": 227,
   "metadata": {},
   "outputs": [],
   "source": [
    "def train_1(net, train_iter, test_iter, trainer, num_epochs, device):\n",
    "    train_loss = []\n",
    "    net.to(device)\n",
    "    loss = nn.CrossEntropyLoss(reduction='sum')\n",
    "    #net.train()\n",
    "    for epoch in range(num_epochs):\n",
    "        train_l_sum, train_acc_sum, n, start = 0.0, 0.0, 0, time.time()\n",
    "        net.train()\n",
    "        for i, (X, y) in enumerate(train_iter):\n",
    "            X, y = X.to(device), y.to(device)\n",
    "            trainer.zero_grad()\n",
    "            y_hat = net(X)\n",
    "            l = loss(y_hat[0], y)\n",
    "            l.backward()\n",
    "            trainer.step()\n",
    "            train_l_sum += l.item()\n",
    "            train_acc_sum += (y_hat[0].argmax(axis=1) == y).sum().item()\n",
    "            n += y.shape[0]\n",
    "\n",
    "            if i % 10 == 0:\n",
    "              print(f\"Step {i}. time since epoch: {time.time() -  start:.3f}. \" \n",
    "                    f\"Train acc: {train_acc_sum / n:.3f}. Train Loss: {train_l_sum / n:.3f}\")\n",
    "        test_acc = evaluate_accuracy(test_iter, net.to(device))\n",
    "        print('-' * 20)\n",
    "        train_loss.append(train_l_sum / n)\n",
    "        print(f'epoch {epoch + 1}, loss {train_l_sum / n:.4f}, train acc {train_acc_sum / n:.3f}'\n",
    "              f', test acc {test_acc:.3f}, time {time.time() - start:.1f} sec')\n",
    "    return train_loss"
   ]
  },
  {
   "cell_type": "code",
   "execution_count": 226,
   "metadata": {},
   "outputs": [],
   "source": [
    "for name, layer in model.named_children():\n",
    "    if isinstance(layer, nn.Conv2d):\n",
    "        print(f\"{name}: {layer}\")"
   ]
  },
  {
   "cell_type": "code",
   "execution_count": null,
   "metadata": {},
   "outputs": [],
   "source": [
    "lr, num_epochs = 0.001, 10\n",
    "trainer = torch.optim.Adam(params_to_update, lr=lr)\n",
    "network = train_1(model, train_iter, test_iter, trainer, num_epochs, device)"
   ]
  },
  {
   "cell_type": "code",
   "execution_count": 229,
   "metadata": {},
   "outputs": [
    {
     "data": {
      "text/html": [
       "<div>\n",
       "<style scoped>\n",
       "    .dataframe tbody tr th:only-of-type {\n",
       "        vertical-align: middle;\n",
       "    }\n",
       "\n",
       "    .dataframe tbody tr th {\n",
       "        vertical-align: top;\n",
       "    }\n",
       "\n",
       "    .dataframe thead th {\n",
       "        text-align: right;\n",
       "    }\n",
       "</style>\n",
       "<table border=\"1\" class=\"dataframe\">\n",
       "  <thead>\n",
       "    <tr style=\"text-align: right;\">\n",
       "      <th></th>\n",
       "      <th>Loss_inc</th>\n",
       "    </tr>\n",
       "  </thead>\n",
       "  <tbody>\n",
       "    <tr>\n",
       "      <th>0</th>\n",
       "      <td>0.613919</td>\n",
       "    </tr>\n",
       "    <tr>\n",
       "      <th>1</th>\n",
       "      <td>0.428366</td>\n",
       "    </tr>\n",
       "    <tr>\n",
       "      <th>2</th>\n",
       "      <td>0.368501</td>\n",
       "    </tr>\n",
       "    <tr>\n",
       "      <th>3</th>\n",
       "      <td>0.298560</td>\n",
       "    </tr>\n",
       "    <tr>\n",
       "      <th>4</th>\n",
       "      <td>0.338162</td>\n",
       "    </tr>\n",
       "    <tr>\n",
       "      <th>5</th>\n",
       "      <td>0.284948</td>\n",
       "    </tr>\n",
       "    <tr>\n",
       "      <th>6</th>\n",
       "      <td>0.289928</td>\n",
       "    </tr>\n",
       "    <tr>\n",
       "      <th>7</th>\n",
       "      <td>0.361580</td>\n",
       "    </tr>\n",
       "    <tr>\n",
       "      <th>8</th>\n",
       "      <td>0.322178</td>\n",
       "    </tr>\n",
       "    <tr>\n",
       "      <th>9</th>\n",
       "      <td>0.239690</td>\n",
       "    </tr>\n",
       "  </tbody>\n",
       "</table>\n",
       "</div>"
      ],
      "text/plain": [
       "   Loss_inc\n",
       "0  0.613919\n",
       "1  0.428366\n",
       "2  0.368501\n",
       "3  0.298560\n",
       "4  0.338162\n",
       "5  0.284948\n",
       "6  0.289928\n",
       "7  0.361580\n",
       "8  0.322178\n",
       "9  0.239690"
      ]
     },
     "execution_count": 229,
     "metadata": {},
     "output_type": "execute_result"
    }
   ],
   "source": [
    "df_inc = pd.DataFrame({'Loss_inc': network})\n",
    "\n",
    "df_inc"
   ]
  },
  {
   "cell_type": "code",
   "execution_count": 230,
   "metadata": {},
   "outputs": [
    {
     "data": {
      "image/png": "[encoded data removed]",
      "text/plain": [
       "<Figure size 640x480 with 1 Axes>"
      ]
     },
     "metadata": {},
     "output_type": "display_data"
    }
   ],
   "source": [
    "plt.plot(network)\n",
    "plt.title('Training Loss over Epochs Inception_V3')\n",
    "plt.xlabel('Epoch')\n",
    "plt.ylabel('Loss')\n",
    "plt.show()"
   ]
  },
  {
   "cell_type": "markdown",
   "metadata": {},
   "source": [
    "Модель DenseNet161"
   ]
  },
  {
   "cell_type": "code",
   "execution_count": 246,
   "metadata": {},
   "outputs": [
    {
     "name": "stderr",
     "output_type": "stream",
     "text": [
      "Using cache found in C:\\Users\\79169/.cache\\torch\\hub\\pytorch_vision_v0.10.0\n",
      "d:\\anaconda\\Lib\\site-packages\\torchvision\\models\\_utils.py:208: UserWarning: The parameter 'pretrained' is deprecated since 0.13 and may be removed in the future, please use 'weights' instead.\n",
      "  warnings.warn(\n",
      "d:\\anaconda\\Lib\\site-packages\\torchvision\\models\\_utils.py:223: UserWarning: Arguments other than a weight enum or `None` for 'weights' are deprecated since 0.13 and may be removed in the future. The current behavior is equivalent to passing `weights=DenseNet161_Weights.IMAGENET1K_V1`. You can also use `weights=DenseNet161_Weights.DEFAULT` to get the most up-to-date weights.\n",
      "  warnings.warn(msg)\n"
     ]
    }
   ],
   "source": [
    "model = torch.hub.load('pytorch/vision:v0.10.0', 'densenet161', pretrained=True)"
   ]
  },
  {
   "cell_type": "code",
   "execution_count": 247,
   "metadata": {},
   "outputs": [],
   "source": [
    "BATCH_SIZE = 8\n",
    "transoforms = tv.transforms.Compose([\n",
    "    tv.transforms.Resize((224, 224)),\n",
    "    tv.transforms.ToTensor()\n",
    "])"
   ]
  },
  {
   "cell_type": "code",
   "execution_count": 248,
   "metadata": {},
   "outputs": [],
   "source": [
    "data_dir = r'C:\\Users\\79169\\Desktop\\домашка\\DLL\\hymenoptera_data'\n",
    "train_data = tv.datasets.ImageFolder(data_dir + '/train', transform=transforms)\n",
    "test_data = tv.datasets.ImageFolder(data_dir + '/val', transform=transforms)"
   ]
  },
  {
   "cell_type": "code",
   "execution_count": 249,
   "metadata": {},
   "outputs": [],
   "source": [
    "train_iter = torch.utils.data.DataLoader(train_data, batch_size=BATCH_SIZE)\n",
    "test_iter = torch.utils.data.DataLoader(test_data, batch_size=BATCH_SIZE)"
   ]
  },
  {
   "cell_type": "code",
   "execution_count": 250,
   "metadata": {},
   "outputs": [
    {
     "name": "stdout",
     "output_type": "stream",
     "text": [
      "\t classifier.weight\n",
      "\t classifier.bias\n"
     ]
    }
   ],
   "source": [
    "for param in model.parameters():\n",
    "    param.requires_grad = False\n",
    "\n",
    "model.classifier = nn.Linear(in_features=2208, out_features=2)\n",
    "params_to_update = []\n",
    "for name, param in model.named_parameters():\n",
    "    if param.requires_grad == True:\n",
    "        params_to_update.append(param)\n",
    "        print(\"\\t\",name)"
   ]
  },
  {
   "cell_type": "code",
   "execution_count": null,
   "metadata": {},
   "outputs": [],
   "source": [
    "lr, num_epochs = 0.001, 10\n",
    "trainer = torch.optim.Adam(params_to_update, lr=lr)\n",
    "network = train(model, train_iter, test_iter, trainer, num_epochs, device)"
   ]
  },
  {
   "cell_type": "code",
   "execution_count": 263,
   "metadata": {},
   "outputs": [
    {
     "data": {
      "text/html": [
       "<div>\n",
       "<style scoped>\n",
       "    .dataframe tbody tr th:only-of-type {\n",
       "        vertical-align: middle;\n",
       "    }\n",
       "\n",
       "    .dataframe tbody tr th {\n",
       "        vertical-align: top;\n",
       "    }\n",
       "\n",
       "    .dataframe thead th {\n",
       "        text-align: right;\n",
       "    }\n",
       "</style>\n",
       "<table border=\"1\" class=\"dataframe\">\n",
       "  <thead>\n",
       "    <tr style=\"text-align: right;\">\n",
       "      <th></th>\n",
       "      <th>Loss_dense</th>\n",
       "    </tr>\n",
       "  </thead>\n",
       "  <tbody>\n",
       "    <tr>\n",
       "      <th>0</th>\n",
       "      <td>5.946891</td>\n",
       "    </tr>\n",
       "    <tr>\n",
       "      <th>1</th>\n",
       "      <td>0.060411</td>\n",
       "    </tr>\n",
       "    <tr>\n",
       "      <th>2</th>\n",
       "      <td>0.009097</td>\n",
       "    </tr>\n",
       "    <tr>\n",
       "      <th>3</th>\n",
       "      <td>0.005022</td>\n",
       "    </tr>\n",
       "    <tr>\n",
       "      <th>4</th>\n",
       "      <td>0.003607</td>\n",
       "    </tr>\n",
       "    <tr>\n",
       "      <th>5</th>\n",
       "      <td>0.002879</td>\n",
       "    </tr>\n",
       "    <tr>\n",
       "      <th>6</th>\n",
       "      <td>0.002465</td>\n",
       "    </tr>\n",
       "    <tr>\n",
       "      <th>7</th>\n",
       "      <td>0.002219</td>\n",
       "    </tr>\n",
       "    <tr>\n",
       "      <th>8</th>\n",
       "      <td>0.002069</td>\n",
       "    </tr>\n",
       "    <tr>\n",
       "      <th>9</th>\n",
       "      <td>0.001974</td>\n",
       "    </tr>\n",
       "  </tbody>\n",
       "</table>\n",
       "</div>"
      ],
      "text/plain": [
       "   Loss_dense\n",
       "0    5.946891\n",
       "1    0.060411\n",
       "2    0.009097\n",
       "3    0.005022\n",
       "4    0.003607\n",
       "5    0.002879\n",
       "6    0.002465\n",
       "7    0.002219\n",
       "8    0.002069\n",
       "9    0.001974"
      ]
     },
     "execution_count": 263,
     "metadata": {},
     "output_type": "execute_result"
    }
   ],
   "source": [
    "df_dense = pd.DataFrame({'Loss_dense': network})\n",
    "\n",
    "df_dense"
   ]
  },
  {
   "cell_type": "code",
   "execution_count": 264,
   "metadata": {},
   "outputs": [
    {
     "data": {
      "image/png": "[encoded data removed]",
      "text/plain": [
       "<Figure size 640x480 with 1 Axes>"
      ]
     },
     "metadata": {},
     "output_type": "display_data"
    }
   ],
   "source": [
    "plt.plot(network)\n",
    "plt.title('Training Loss over Epochs Dense161')\n",
    "plt.xlabel('Epoch')\n",
    "plt.ylabel('Loss')\n",
    "plt.show()"
   ]
  },
  {
   "cell_type": "code",
   "execution_count": 265,
   "metadata": {},
   "outputs": [
    {
     "data": {
      "text/html": [
       "<div>\n",
       "<style scoped>\n",
       "    .dataframe tbody tr th:only-of-type {\n",
       "        vertical-align: middle;\n",
       "    }\n",
       "\n",
       "    .dataframe tbody tr th {\n",
       "        vertical-align: top;\n",
       "    }\n",
       "\n",
       "    .dataframe thead th {\n",
       "        text-align: right;\n",
       "    }\n",
       "</style>\n",
       "<table border=\"1\" class=\"dataframe\">\n",
       "  <thead>\n",
       "    <tr style=\"text-align: right;\">\n",
       "      <th></th>\n",
       "      <th>Loss_res</th>\n",
       "      <th>Loss_inc</th>\n",
       "      <th>Loss_vgg</th>\n",
       "      <th>Loss_dense</th>\n",
       "    </tr>\n",
       "  </thead>\n",
       "  <tbody>\n",
       "    <tr>\n",
       "      <th>0</th>\n",
       "      <td>0.609551</td>\n",
       "      <td>0.613919</td>\n",
       "      <td>0.454884</td>\n",
       "      <td>5.946891</td>\n",
       "    </tr>\n",
       "    <tr>\n",
       "      <th>1</th>\n",
       "      <td>0.302142</td>\n",
       "      <td>0.428366</td>\n",
       "      <td>0.169315</td>\n",
       "      <td>0.060411</td>\n",
       "    </tr>\n",
       "    <tr>\n",
       "      <th>2</th>\n",
       "      <td>0.198976</td>\n",
       "      <td>0.368501</td>\n",
       "      <td>0.106914</td>\n",
       "      <td>0.009097</td>\n",
       "    </tr>\n",
       "    <tr>\n",
       "      <th>3</th>\n",
       "      <td>0.152918</td>\n",
       "      <td>0.298560</td>\n",
       "      <td>0.071213</td>\n",
       "      <td>0.005022</td>\n",
       "    </tr>\n",
       "    <tr>\n",
       "      <th>4</th>\n",
       "      <td>0.122258</td>\n",
       "      <td>0.338162</td>\n",
       "      <td>0.052285</td>\n",
       "      <td>0.003607</td>\n",
       "    </tr>\n",
       "    <tr>\n",
       "      <th>5</th>\n",
       "      <td>0.102634</td>\n",
       "      <td>0.284948</td>\n",
       "      <td>0.046276</td>\n",
       "      <td>0.002879</td>\n",
       "    </tr>\n",
       "    <tr>\n",
       "      <th>6</th>\n",
       "      <td>0.099254</td>\n",
       "      <td>0.289928</td>\n",
       "      <td>0.033366</td>\n",
       "      <td>0.002465</td>\n",
       "    </tr>\n",
       "    <tr>\n",
       "      <th>7</th>\n",
       "      <td>0.090897</td>\n",
       "      <td>0.361580</td>\n",
       "      <td>0.030355</td>\n",
       "      <td>0.002219</td>\n",
       "    </tr>\n",
       "    <tr>\n",
       "      <th>8</th>\n",
       "      <td>0.067062</td>\n",
       "      <td>0.322178</td>\n",
       "      <td>0.022967</td>\n",
       "      <td>0.002069</td>\n",
       "    </tr>\n",
       "    <tr>\n",
       "      <th>9</th>\n",
       "      <td>0.058984</td>\n",
       "      <td>0.239690</td>\n",
       "      <td>0.019076</td>\n",
       "      <td>0.001974</td>\n",
       "    </tr>\n",
       "  </tbody>\n",
       "</table>\n",
       "</div>"
      ],
      "text/plain": [
       "   Loss_res  Loss_inc  Loss_vgg  Loss_dense\n",
       "0  0.609551  0.613919  0.454884    5.946891\n",
       "1  0.302142  0.428366  0.169315    0.060411\n",
       "2  0.198976  0.368501  0.106914    0.009097\n",
       "3  0.152918  0.298560  0.071213    0.005022\n",
       "4  0.122258  0.338162  0.052285    0.003607\n",
       "5  0.102634  0.284948  0.046276    0.002879\n",
       "6  0.099254  0.289928  0.033366    0.002465\n",
       "7  0.090897  0.361580  0.030355    0.002219\n",
       "8  0.067062  0.322178  0.022967    0.002069\n",
       "9  0.058984  0.239690  0.019076    0.001974"
      ]
     },
     "execution_count": 265,
     "metadata": {},
     "output_type": "execute_result"
    }
   ],
   "source": [
    "df_final = pd.concat([df_res, df_inc, df_vgg, df_dense], axis=1)\n",
    "df_final"
   ]
  },
  {
   "cell_type": "code",
   "execution_count": 266,
   "metadata": {},
   "outputs": [
    {
     "data": {
      "image/png": "[encoded data removed]",
      "text/plain": [
       "<Figure size 640x480 with 1 Axes>"
      ]
     },
     "metadata": {},
     "output_type": "display_data"
    }
   ],
   "source": [
    "plt.plot(df_final['Loss_res'], '-g', label='ResNet18')\n",
    "plt.plot(df_final['Loss_inc'], '-r', label='Inception_V3')\n",
    "plt.plot(df_final['Loss_vgg'], '-c', label='VGG16')\n",
    "plt.plot(df_final['Loss_dense'], '-k', label='DenseNet161')\n",
    "plt.legend()\n",
    "plt.title('Сравнение моделей')\n",
    "plt.xlabel('Epoch')\n",
    "plt.ylabel('Loss')\n",
    "plt.show()"
   ]
  }
 ],
 "metadata": {
  "kernelspec": {
   "display_name": "based",
   "language": "python",
   "name": "python3"
  },
  "language_info": {
   "codemirror_mode": {
    "name": "ipython",
    "version": 3
   },
   "file_extension": ".py",
   "mimetype": "text/x-python",
   "name": "python",
   "nbconvert_exporter": "python",
   "pygments_lexer": "ipython3",
   "version": "3.11.5"
  }
 },
 "nbformat": 4,
 "nbformat_minor": 2
}
